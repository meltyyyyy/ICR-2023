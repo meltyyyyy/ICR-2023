{
 "cells": [
  {
   "cell_type": "markdown",
   "id": "05fb2483",
   "metadata": {
    "papermill": {
     "duration": 0.005891,
     "end_time": "2023-07-16T10:59:07.733387",
     "exception": false,
     "start_time": "2023-07-16T10:59:07.727496",
     "status": "completed"
    },
    "tags": []
   },
   "source": [
    "### Imports"
   ]
  },
  {
   "cell_type": "code",
   "execution_count": 1,
   "id": "e0ea7686",
   "metadata": {
    "_cell_guid": "b1076dfc-b9ad-4769-8c92-a6c4dae69d19",
    "_uuid": "8f2839f25d086af736a60e9eeb907d3b93b6e0e5",
    "execution": {
     "iopub.execute_input": "2023-07-16T10:59:07.746141Z",
     "iopub.status.busy": "2023-07-16T10:59:07.745394Z",
     "iopub.status.idle": "2023-07-16T10:59:10.662232Z",
     "shell.execute_reply": "2023-07-16T10:59:10.661339Z"
    },
    "papermill": {
     "duration": 2.926332,
     "end_time": "2023-07-16T10:59:10.665025",
     "exception": false,
     "start_time": "2023-07-16T10:59:07.738693",
     "status": "completed"
    },
    "tags": []
   },
   "outputs": [
    {
     "name": "stderr",
     "output_type": "stream",
     "text": [
      "/opt/conda/lib/python3.10/site-packages/scipy/__init__.py:146: UserWarning: A NumPy version >=1.16.5 and <1.23.0 is required for this version of SciPy (detected version 1.23.5\n",
      "  warnings.warn(f\"A NumPy version >={np_minversion} and <{np_maxversion}\"\n"
     ]
    }
   ],
   "source": [
    "import numpy as np\n",
    "import pandas as pd\n",
    "import matplotlib.pyplot as plt\n",
    "import seaborn as sns\n",
    "from tqdm.notebook import tqdm\n",
    "import math\n",
    "\n",
    "from sklearn.metrics import log_loss, make_scorer\n",
    "from sklearn.preprocessing import MinMaxScaler, StandardScaler\n",
    "from sklearn.model_selection import KFold, StratifiedKFold, StratifiedGroupKFold\n",
    "\n",
    "from lightgbm import LGBMClassifier\n",
    "from sklearn.cluster import KMeans\n",
    "\n",
    "import warnings\n",
    "warnings.filterwarnings(\"ignore\")"
   ]
  },
  {
   "cell_type": "markdown",
   "id": "d1619ef0",
   "metadata": {
    "papermill": {
     "duration": 0.005243,
     "end_time": "2023-07-16T10:59:10.675999",
     "exception": false,
     "start_time": "2023-07-16T10:59:10.670756",
     "status": "completed"
    },
    "tags": []
   },
   "source": [
    "### Data Prep"
   ]
  },
  {
   "cell_type": "code",
   "execution_count": 2,
   "id": "aeb8dcc7",
   "metadata": {
    "execution": {
     "iopub.execute_input": "2023-07-16T10:59:10.688662Z",
     "iopub.status.busy": "2023-07-16T10:59:10.688134Z",
     "iopub.status.idle": "2023-07-16T10:59:10.732624Z",
     "shell.execute_reply": "2023-07-16T10:59:10.731993Z"
    },
    "papermill": {
     "duration": 0.053519,
     "end_time": "2023-07-16T10:59:10.734828",
     "exception": false,
     "start_time": "2023-07-16T10:59:10.681309",
     "status": "completed"
    },
    "tags": []
   },
   "outputs": [],
   "source": [
    "COMP_PATH = \"/kaggle/input/icr-identify-age-related-conditions\"\n",
    "train = pd.read_csv(f\"{COMP_PATH}/train.csv\")\n",
    "test = pd.read_csv(f\"{COMP_PATH}/test.csv\")\n",
    "sample_submission = pd.read_csv(f\"{COMP_PATH}/sample_submission.csv\")\n",
    "greeks = pd.read_csv(f\"{COMP_PATH}/greeks.csv\")"
   ]
  },
  {
   "cell_type": "code",
   "execution_count": 3,
   "id": "18c0c335",
   "metadata": {
    "execution": {
     "iopub.execute_input": "2023-07-16T10:59:10.748331Z",
     "iopub.status.busy": "2023-07-16T10:59:10.747345Z",
     "iopub.status.idle": "2023-07-16T10:59:10.838481Z",
     "shell.execute_reply": "2023-07-16T10:59:10.837193Z"
    },
    "papermill": {
     "duration": 0.100151,
     "end_time": "2023-07-16T10:59:10.840727",
     "exception": false,
     "start_time": "2023-07-16T10:59:10.740576",
     "status": "completed"
    },
    "tags": []
   },
   "outputs": [
    {
     "data": {
      "text/html": [
       "<div>\n",
       "<style scoped>\n",
       "    .dataframe tbody tr th:only-of-type {\n",
       "        vertical-align: middle;\n",
       "    }\n",
       "\n",
       "    .dataframe tbody tr th {\n",
       "        vertical-align: top;\n",
       "    }\n",
       "\n",
       "    .dataframe thead th {\n",
       "        text-align: right;\n",
       "    }\n",
       "</style>\n",
       "<table border=\"1\" class=\"dataframe\">\n",
       "  <thead>\n",
       "    <tr style=\"text-align: right;\">\n",
       "      <th></th>\n",
       "      <th>Id</th>\n",
       "      <th>AB</th>\n",
       "      <th>AF</th>\n",
       "      <th>AH</th>\n",
       "      <th>AM</th>\n",
       "      <th>AR</th>\n",
       "      <th>AX</th>\n",
       "      <th>AY</th>\n",
       "      <th>AZ</th>\n",
       "      <th>BC</th>\n",
       "      <th>...</th>\n",
       "      <th>FL</th>\n",
       "      <th>FR</th>\n",
       "      <th>FS</th>\n",
       "      <th>GB</th>\n",
       "      <th>GE</th>\n",
       "      <th>GF</th>\n",
       "      <th>GH</th>\n",
       "      <th>GI</th>\n",
       "      <th>GL</th>\n",
       "      <th>Class</th>\n",
       "    </tr>\n",
       "  </thead>\n",
       "  <tbody>\n",
       "    <tr>\n",
       "      <th>0</th>\n",
       "      <td>000ff2bfdfe9</td>\n",
       "      <td>0.209377</td>\n",
       "      <td>3109.03329</td>\n",
       "      <td>85.200147</td>\n",
       "      <td>22.394407</td>\n",
       "      <td>8.138688</td>\n",
       "      <td>0.699861</td>\n",
       "      <td>0.025578</td>\n",
       "      <td>9.812214</td>\n",
       "      <td>5.555634</td>\n",
       "      <td>...</td>\n",
       "      <td>7.298162</td>\n",
       "      <td>1.73855</td>\n",
       "      <td>0.094822</td>\n",
       "      <td>11.339138</td>\n",
       "      <td>72.611063</td>\n",
       "      <td>2003.810319</td>\n",
       "      <td>22.136229</td>\n",
       "      <td>69.834944</td>\n",
       "      <td>0.120343</td>\n",
       "      <td>1</td>\n",
       "    </tr>\n",
       "    <tr>\n",
       "      <th>1</th>\n",
       "      <td>007255e47698</td>\n",
       "      <td>0.145282</td>\n",
       "      <td>978.76416</td>\n",
       "      <td>85.200147</td>\n",
       "      <td>36.968889</td>\n",
       "      <td>8.138688</td>\n",
       "      <td>3.632190</td>\n",
       "      <td>0.025578</td>\n",
       "      <td>13.517790</td>\n",
       "      <td>1.229900</td>\n",
       "      <td>...</td>\n",
       "      <td>0.173229</td>\n",
       "      <td>0.49706</td>\n",
       "      <td>0.568932</td>\n",
       "      <td>9.292698</td>\n",
       "      <td>72.611063</td>\n",
       "      <td>27981.562750</td>\n",
       "      <td>29.135430</td>\n",
       "      <td>32.131996</td>\n",
       "      <td>21.978000</td>\n",
       "      <td>0</td>\n",
       "    </tr>\n",
       "    <tr>\n",
       "      <th>2</th>\n",
       "      <td>013f2bd269f5</td>\n",
       "      <td>0.470030</td>\n",
       "      <td>2635.10654</td>\n",
       "      <td>85.200147</td>\n",
       "      <td>32.360553</td>\n",
       "      <td>8.138688</td>\n",
       "      <td>6.732840</td>\n",
       "      <td>0.025578</td>\n",
       "      <td>12.824570</td>\n",
       "      <td>1.229900</td>\n",
       "      <td>...</td>\n",
       "      <td>7.709560</td>\n",
       "      <td>0.97556</td>\n",
       "      <td>1.198821</td>\n",
       "      <td>37.077772</td>\n",
       "      <td>88.609437</td>\n",
       "      <td>13676.957810</td>\n",
       "      <td>28.022851</td>\n",
       "      <td>35.192676</td>\n",
       "      <td>0.196941</td>\n",
       "      <td>0</td>\n",
       "    </tr>\n",
       "    <tr>\n",
       "      <th>3</th>\n",
       "      <td>043ac50845d5</td>\n",
       "      <td>0.252107</td>\n",
       "      <td>3819.65177</td>\n",
       "      <td>120.201618</td>\n",
       "      <td>77.112203</td>\n",
       "      <td>8.138688</td>\n",
       "      <td>3.685344</td>\n",
       "      <td>0.025578</td>\n",
       "      <td>11.053708</td>\n",
       "      <td>1.229900</td>\n",
       "      <td>...</td>\n",
       "      <td>6.122162</td>\n",
       "      <td>0.49706</td>\n",
       "      <td>0.284466</td>\n",
       "      <td>18.529584</td>\n",
       "      <td>82.416803</td>\n",
       "      <td>2094.262452</td>\n",
       "      <td>39.948656</td>\n",
       "      <td>90.493248</td>\n",
       "      <td>0.155829</td>\n",
       "      <td>0</td>\n",
       "    </tr>\n",
       "    <tr>\n",
       "      <th>4</th>\n",
       "      <td>044fb8a146ec</td>\n",
       "      <td>0.380297</td>\n",
       "      <td>3733.04844</td>\n",
       "      <td>85.200147</td>\n",
       "      <td>14.103738</td>\n",
       "      <td>8.138688</td>\n",
       "      <td>3.942255</td>\n",
       "      <td>0.054810</td>\n",
       "      <td>3.396778</td>\n",
       "      <td>102.151980</td>\n",
       "      <td>...</td>\n",
       "      <td>8.153058</td>\n",
       "      <td>48.50134</td>\n",
       "      <td>0.121914</td>\n",
       "      <td>16.408728</td>\n",
       "      <td>146.109943</td>\n",
       "      <td>8524.370502</td>\n",
       "      <td>45.381316</td>\n",
       "      <td>36.262628</td>\n",
       "      <td>0.096614</td>\n",
       "      <td>1</td>\n",
       "    </tr>\n",
       "  </tbody>\n",
       "</table>\n",
       "<p>5 rows × 58 columns</p>\n",
       "</div>"
      ],
      "text/plain": [
       "             Id        AB          AF          AH         AM        AR  \\\n",
       "0  000ff2bfdfe9  0.209377  3109.03329   85.200147  22.394407  8.138688   \n",
       "1  007255e47698  0.145282   978.76416   85.200147  36.968889  8.138688   \n",
       "2  013f2bd269f5  0.470030  2635.10654   85.200147  32.360553  8.138688   \n",
       "3  043ac50845d5  0.252107  3819.65177  120.201618  77.112203  8.138688   \n",
       "4  044fb8a146ec  0.380297  3733.04844   85.200147  14.103738  8.138688   \n",
       "\n",
       "         AX        AY         AZ          BC  ...        FL        FR  \\\n",
       "0  0.699861  0.025578   9.812214    5.555634  ...  7.298162   1.73855   \n",
       "1  3.632190  0.025578  13.517790    1.229900  ...  0.173229   0.49706   \n",
       "2  6.732840  0.025578  12.824570    1.229900  ...  7.709560   0.97556   \n",
       "3  3.685344  0.025578  11.053708    1.229900  ...  6.122162   0.49706   \n",
       "4  3.942255  0.054810   3.396778  102.151980  ...  8.153058  48.50134   \n",
       "\n",
       "         FS         GB          GE            GF         GH         GI  \\\n",
       "0  0.094822  11.339138   72.611063   2003.810319  22.136229  69.834944   \n",
       "1  0.568932   9.292698   72.611063  27981.562750  29.135430  32.131996   \n",
       "2  1.198821  37.077772   88.609437  13676.957810  28.022851  35.192676   \n",
       "3  0.284466  18.529584   82.416803   2094.262452  39.948656  90.493248   \n",
       "4  0.121914  16.408728  146.109943   8524.370502  45.381316  36.262628   \n",
       "\n",
       "          GL  Class  \n",
       "0   0.120343      1  \n",
       "1  21.978000      0  \n",
       "2   0.196941      0  \n",
       "3   0.155829      0  \n",
       "4   0.096614      1  \n",
       "\n",
       "[5 rows x 58 columns]"
      ]
     },
     "execution_count": 3,
     "metadata": {},
     "output_type": "execute_result"
    }
   ],
   "source": [
    "train.fillna(train.median(), inplace=True)\n",
    "test.fillna(test.median(), inplace=True)\n",
    "train.head()"
   ]
  },
  {
   "cell_type": "code",
   "execution_count": 4,
   "id": "2f3fedf0",
   "metadata": {
    "execution": {
     "iopub.execute_input": "2023-07-16T10:59:10.853967Z",
     "iopub.status.busy": "2023-07-16T10:59:10.853289Z",
     "iopub.status.idle": "2023-07-16T10:59:10.859642Z",
     "shell.execute_reply": "2023-07-16T10:59:10.858111Z"
    },
    "papermill": {
     "duration": 0.015338,
     "end_time": "2023-07-16T10:59:10.861814",
     "exception": false,
     "start_time": "2023-07-16T10:59:10.846476",
     "status": "completed"
    },
    "tags": []
   },
   "outputs": [
    {
     "name": "stdout",
     "output_type": "stream",
     "text": [
      "No of Columns: 58\n"
     ]
    }
   ],
   "source": [
    "cols = train.columns\n",
    "feat_cols = cols[1:]\n",
    "num_cols = train.select_dtypes(include=['float64']).columns\n",
    "print(\"No of Columns:\", len(cols))"
   ]
  },
  {
   "cell_type": "markdown",
   "id": "6095a3b4",
   "metadata": {
    "papermill": {
     "duration": 0.00556,
     "end_time": "2023-07-16T10:59:10.873390",
     "exception": false,
     "start_time": "2023-07-16T10:59:10.867830",
     "status": "completed"
    },
    "tags": []
   },
   "source": [
    "### Metric"
   ]
  },
  {
   "cell_type": "code",
   "execution_count": 5,
   "id": "f9a20ce1",
   "metadata": {
    "execution": {
     "iopub.execute_input": "2023-07-16T10:59:10.886875Z",
     "iopub.status.busy": "2023-07-16T10:59:10.886320Z",
     "iopub.status.idle": "2023-07-16T10:59:10.893313Z",
     "shell.execute_reply": "2023-07-16T10:59:10.892310Z"
    },
    "papermill": {
     "duration": 0.016368,
     "end_time": "2023-07-16T10:59:10.895582",
     "exception": false,
     "start_time": "2023-07-16T10:59:10.879214",
     "status": "completed"
    },
    "tags": []
   },
   "outputs": [],
   "source": [
    "def competition_log_loss(y_true, y_pred):\n",
    "    N_0 = np.sum(1 - y_true)\n",
    "    N_1 = np.sum(y_true)\n",
    "    p_1 = np.clip(y_pred, 1e-15, 1 - 1e-15)\n",
    "    p_0 = 1 - p_1\n",
    "    log_loss_0 = -np.sum((1 - y_true) * np.log(p_0)) / N_0\n",
    "    log_loss_1 = -np.sum(y_true * np.log(p_1)) / N_1\n",
    "    return (log_loss_0 + log_loss_1)/2\n",
    "\n",
    "def balanced_log_loss(y_true, y_pred):\n",
    "    N_0 = np.sum(1 - y_true)\n",
    "    N_1 = np.sum(y_true)\n",
    "    p_1 = np.clip(y_pred, 1e-15, 1 - 1e-15)\n",
    "    p_0 = 1 - p_1\n",
    "    log_loss_0 = -np.sum((1 - y_true) * np.log(p_0))\n",
    "    log_loss_1 = -np.sum(y_true * np.log(p_1))\n",
    "    w_0 = 1 / N_0\n",
    "    w_1 = 1 / N_1\n",
    "    balanced_log_loss = 2*(w_0 * log_loss_0 + w_1 * log_loss_1) / (w_0 + w_1)\n",
    "    return balanced_log_loss/(N_0+N_1)"
   ]
  },
  {
   "cell_type": "code",
   "execution_count": 6,
   "id": "cea5aa67",
   "metadata": {
    "execution": {
     "iopub.execute_input": "2023-07-16T10:59:10.909166Z",
     "iopub.status.busy": "2023-07-16T10:59:10.908621Z",
     "iopub.status.idle": "2023-07-16T10:59:10.912664Z",
     "shell.execute_reply": "2023-07-16T10:59:10.911805Z"
    },
    "papermill": {
     "duration": 0.013301,
     "end_time": "2023-07-16T10:59:10.914829",
     "exception": false,
     "start_time": "2023-07-16T10:59:10.901528",
     "status": "completed"
    },
    "tags": []
   },
   "outputs": [],
   "source": [
    "def lgb_metric(y_true, y_pred):\n",
    "    return 'balanced_log_loss', balanced_log_loss(y_true, y_pred), False"
   ]
  },
  {
   "cell_type": "markdown",
   "id": "eee1be3d",
   "metadata": {
    "papermill": {
     "duration": 0.005503,
     "end_time": "2023-07-16T10:59:10.926566",
     "exception": false,
     "start_time": "2023-07-16T10:59:10.921063",
     "status": "completed"
    },
    "tags": []
   },
   "source": [
    "### Feature Engineering"
   ]
  },
  {
   "cell_type": "code",
   "execution_count": 7,
   "id": "d551ab0b",
   "metadata": {
    "execution": {
     "iopub.execute_input": "2023-07-16T10:59:10.939563Z",
     "iopub.status.busy": "2023-07-16T10:59:10.939242Z",
     "iopub.status.idle": "2023-07-16T10:59:10.950124Z",
     "shell.execute_reply": "2023-07-16T10:59:10.949138Z"
    },
    "papermill": {
     "duration": 0.019985,
     "end_time": "2023-07-16T10:59:10.952220",
     "exception": false,
     "start_time": "2023-07-16T10:59:10.932235",
     "status": "completed"
    },
    "tags": []
   },
   "outputs": [],
   "source": [
    "# Label encoding\n",
    "train['EJ'] = train['EJ'].map({'A': 0, 'B': 1})\n",
    "test['EJ']  = test['EJ'].map({'A': 0, 'B': 1})"
   ]
  },
  {
   "cell_type": "code",
   "execution_count": 8,
   "id": "d09fe9ff",
   "metadata": {
    "execution": {
     "iopub.execute_input": "2023-07-16T10:59:10.965201Z",
     "iopub.status.busy": "2023-07-16T10:59:10.964826Z",
     "iopub.status.idle": "2023-07-16T10:59:11.011292Z",
     "shell.execute_reply": "2023-07-16T10:59:11.010434Z"
    },
    "papermill": {
     "duration": 0.054942,
     "end_time": "2023-07-16T10:59:11.013130",
     "exception": false,
     "start_time": "2023-07-16T10:59:10.958188",
     "status": "completed"
    },
    "tags": []
   },
   "outputs": [
    {
     "data": {
      "text/html": [
       "<div>\n",
       "<style scoped>\n",
       "    .dataframe tbody tr th:only-of-type {\n",
       "        vertical-align: middle;\n",
       "    }\n",
       "\n",
       "    .dataframe tbody tr th {\n",
       "        vertical-align: top;\n",
       "    }\n",
       "\n",
       "    .dataframe thead th {\n",
       "        text-align: right;\n",
       "    }\n",
       "</style>\n",
       "<table border=\"1\" class=\"dataframe\">\n",
       "  <thead>\n",
       "    <tr style=\"text-align: right;\">\n",
       "      <th></th>\n",
       "      <th>Id</th>\n",
       "      <th>AB</th>\n",
       "      <th>AF</th>\n",
       "      <th>AH</th>\n",
       "      <th>AM</th>\n",
       "      <th>AR</th>\n",
       "      <th>AX</th>\n",
       "      <th>AY</th>\n",
       "      <th>AZ</th>\n",
       "      <th>BC</th>\n",
       "      <th>...</th>\n",
       "      <th>FL</th>\n",
       "      <th>FR</th>\n",
       "      <th>FS</th>\n",
       "      <th>GB</th>\n",
       "      <th>GE</th>\n",
       "      <th>GF</th>\n",
       "      <th>GH</th>\n",
       "      <th>GI</th>\n",
       "      <th>GL</th>\n",
       "      <th>Class</th>\n",
       "    </tr>\n",
       "  </thead>\n",
       "  <tbody>\n",
       "    <tr>\n",
       "      <th>0</th>\n",
       "      <td>000ff2bfdfe9</td>\n",
       "      <td>-0.572153</td>\n",
       "      <td>-0.170975</td>\n",
       "      <td>-0.261669</td>\n",
       "      <td>-0.237889</td>\n",
       "      <td>-0.189295</td>\n",
       "      <td>-1.900558</td>\n",
       "      <td>-0.083417</td>\n",
       "      <td>-0.173502</td>\n",
       "      <td>-0.038354</td>\n",
       "      <td>...</td>\n",
       "      <td>0.162821</td>\n",
       "      <td>-0.035806</td>\n",
       "      <td>-0.250437</td>\n",
       "      <td>-0.940094</td>\n",
       "      <td>-0.410260</td>\n",
       "      <td>-0.655511</td>\n",
       "      <td>-0.948991</td>\n",
       "      <td>0.531241</td>\n",
       "      <td>-0.814049</td>\n",
       "      <td>1</td>\n",
       "    </tr>\n",
       "    <tr>\n",
       "      <th>1</th>\n",
       "      <td>007255e47698</td>\n",
       "      <td>-0.709105</td>\n",
       "      <td>-1.097801</td>\n",
       "      <td>-0.261669</td>\n",
       "      <td>-0.028701</td>\n",
       "      <td>-0.189295</td>\n",
       "      <td>-0.750457</td>\n",
       "      <td>-0.083417</td>\n",
       "      <td>0.678919</td>\n",
       "      <td>-0.104787</td>\n",
       "      <td>...</td>\n",
       "      <td>-0.457925</td>\n",
       "      <td>-0.060566</td>\n",
       "      <td>0.113640</td>\n",
       "      <td>-1.145070</td>\n",
       "      <td>-0.410260</td>\n",
       "      <td>0.687893</td>\n",
       "      <td>-0.238862</td>\n",
       "      <td>-0.509218</td>\n",
       "      <td>1.304860</td>\n",
       "      <td>0</td>\n",
       "    </tr>\n",
       "    <tr>\n",
       "      <th>2</th>\n",
       "      <td>013f2bd269f5</td>\n",
       "      <td>-0.015212</td>\n",
       "      <td>-0.377169</td>\n",
       "      <td>-0.261669</td>\n",
       "      <td>-0.094845</td>\n",
       "      <td>-0.189295</td>\n",
       "      <td>0.465662</td>\n",
       "      <td>-0.083417</td>\n",
       "      <td>0.519453</td>\n",
       "      <td>-0.104787</td>\n",
       "      <td>...</td>\n",
       "      <td>0.198663</td>\n",
       "      <td>-0.051023</td>\n",
       "      <td>0.597343</td>\n",
       "      <td>1.637944</td>\n",
       "      <td>-0.299210</td>\n",
       "      <td>-0.051850</td>\n",
       "      <td>-0.351743</td>\n",
       "      <td>-0.424754</td>\n",
       "      <td>-0.806623</td>\n",
       "      <td>0</td>\n",
       "    </tr>\n",
       "    <tr>\n",
       "      <th>3</th>\n",
       "      <td>043ac50845d5</td>\n",
       "      <td>-0.480851</td>\n",
       "      <td>0.138196</td>\n",
       "      <td>0.012347</td>\n",
       "      <td>0.547477</td>\n",
       "      <td>-0.189295</td>\n",
       "      <td>-0.729610</td>\n",
       "      <td>-0.083417</td>\n",
       "      <td>0.112088</td>\n",
       "      <td>-0.104787</td>\n",
       "      <td>...</td>\n",
       "      <td>0.060364</td>\n",
       "      <td>-0.060566</td>\n",
       "      <td>-0.104806</td>\n",
       "      <td>-0.219883</td>\n",
       "      <td>-0.342195</td>\n",
       "      <td>-0.650833</td>\n",
       "      <td>0.858232</td>\n",
       "      <td>1.101332</td>\n",
       "      <td>-0.810609</td>\n",
       "      <td>0</td>\n",
       "    </tr>\n",
       "    <tr>\n",
       "      <th>4</th>\n",
       "      <td>044fb8a146ec</td>\n",
       "      <td>-0.206946</td>\n",
       "      <td>0.100517</td>\n",
       "      <td>-0.261669</td>\n",
       "      <td>-0.356885</td>\n",
       "      <td>-0.189295</td>\n",
       "      <td>-0.628845</td>\n",
       "      <td>-0.013229</td>\n",
       "      <td>-1.649292</td>\n",
       "      <td>1.445139</td>\n",
       "      <td>...</td>\n",
       "      <td>0.237302</td>\n",
       "      <td>0.896815</td>\n",
       "      <td>-0.229632</td>\n",
       "      <td>-0.432313</td>\n",
       "      <td>0.099920</td>\n",
       "      <td>-0.318309</td>\n",
       "      <td>1.409422</td>\n",
       "      <td>-0.395228</td>\n",
       "      <td>-0.816349</td>\n",
       "      <td>1</td>\n",
       "    </tr>\n",
       "    <tr>\n",
       "      <th>...</th>\n",
       "      <td>...</td>\n",
       "      <td>...</td>\n",
       "      <td>...</td>\n",
       "      <td>...</td>\n",
       "      <td>...</td>\n",
       "      <td>...</td>\n",
       "      <td>...</td>\n",
       "      <td>...</td>\n",
       "      <td>...</td>\n",
       "      <td>...</td>\n",
       "      <td>...</td>\n",
       "      <td>...</td>\n",
       "      <td>...</td>\n",
       "      <td>...</td>\n",
       "      <td>...</td>\n",
       "      <td>...</td>\n",
       "      <td>...</td>\n",
       "      <td>...</td>\n",
       "      <td>...</td>\n",
       "      <td>...</td>\n",
       "      <td>...</td>\n",
       "    </tr>\n",
       "    <tr>\n",
       "      <th>612</th>\n",
       "      <td>fd3dafe738fd</td>\n",
       "      <td>-0.699975</td>\n",
       "      <td>-0.161828</td>\n",
       "      <td>0.040232</td>\n",
       "      <td>-0.422762</td>\n",
       "      <td>0.275215</td>\n",
       "      <td>-0.802577</td>\n",
       "      <td>0.040875</td>\n",
       "      <td>-0.464891</td>\n",
       "      <td>-0.080610</td>\n",
       "      <td>...</td>\n",
       "      <td>-0.457925</td>\n",
       "      <td>-0.045332</td>\n",
       "      <td>-0.271241</td>\n",
       "      <td>-1.177680</td>\n",
       "      <td>0.593022</td>\n",
       "      <td>-0.340465</td>\n",
       "      <td>-0.694915</td>\n",
       "      <td>0.513497</td>\n",
       "      <td>1.304860</td>\n",
       "      <td>0</td>\n",
       "    </tr>\n",
       "    <tr>\n",
       "      <th>613</th>\n",
       "      <td>fd895603f071</td>\n",
       "      <td>-0.088253</td>\n",
       "      <td>0.852755</td>\n",
       "      <td>-0.261669</td>\n",
       "      <td>0.108831</td>\n",
       "      <td>0.556117</td>\n",
       "      <td>0.170319</td>\n",
       "      <td>-0.082686</td>\n",
       "      <td>0.473063</td>\n",
       "      <td>-0.065661</td>\n",
       "      <td>...</td>\n",
       "      <td>0.417655</td>\n",
       "      <td>-0.045702</td>\n",
       "      <td>0.004417</td>\n",
       "      <td>1.519617</td>\n",
       "      <td>2.535523</td>\n",
       "      <td>-0.599582</td>\n",
       "      <td>-0.186764</td>\n",
       "      <td>2.048314</td>\n",
       "      <td>-0.811625</td>\n",
       "      <td>0</td>\n",
       "    </tr>\n",
       "    <tr>\n",
       "      <th>614</th>\n",
       "      <td>fd8ef6377f76</td>\n",
       "      <td>-0.106514</td>\n",
       "      <td>-0.453742</td>\n",
       "      <td>0.090140</td>\n",
       "      <td>0.235206</td>\n",
       "      <td>-0.011673</td>\n",
       "      <td>0.990330</td>\n",
       "      <td>-0.083417</td>\n",
       "      <td>1.113828</td>\n",
       "      <td>-0.104787</td>\n",
       "      <td>...</td>\n",
       "      <td>-0.457925</td>\n",
       "      <td>-0.060566</td>\n",
       "      <td>-0.271241</td>\n",
       "      <td>-0.076400</td>\n",
       "      <td>-0.019561</td>\n",
       "      <td>-0.424307</td>\n",
       "      <td>-0.540129</td>\n",
       "      <td>1.903449</td>\n",
       "      <td>1.304860</td>\n",
       "      <td>0</td>\n",
       "    </tr>\n",
       "    <tr>\n",
       "      <th>615</th>\n",
       "      <td>fe1942975e40</td>\n",
       "      <td>-0.243466</td>\n",
       "      <td>-0.973904</td>\n",
       "      <td>-0.261669</td>\n",
       "      <td>-0.219353</td>\n",
       "      <td>-0.189295</td>\n",
       "      <td>0.955584</td>\n",
       "      <td>-0.083417</td>\n",
       "      <td>-0.699741</td>\n",
       "      <td>-0.104787</td>\n",
       "      <td>...</td>\n",
       "      <td>0.333481</td>\n",
       "      <td>-0.054771</td>\n",
       "      <td>0.191657</td>\n",
       "      <td>0.387591</td>\n",
       "      <td>-0.410260</td>\n",
       "      <td>-0.657500</td>\n",
       "      <td>-0.646592</td>\n",
       "      <td>-0.370599</td>\n",
       "      <td>-0.807817</td>\n",
       "      <td>0</td>\n",
       "    </tr>\n",
       "    <tr>\n",
       "      <th>616</th>\n",
       "      <td>ffcca4ded3bb</td>\n",
       "      <td>0.012178</td>\n",
       "      <td>-0.360885</td>\n",
       "      <td>3.350987</td>\n",
       "      <td>1.048310</td>\n",
       "      <td>-0.189295</td>\n",
       "      <td>-0.920714</td>\n",
       "      <td>0.135921</td>\n",
       "      <td>-1.649292</td>\n",
       "      <td>-0.001602</td>\n",
       "      <td>...</td>\n",
       "      <td>-0.457925</td>\n",
       "      <td>-0.047645</td>\n",
       "      <td>-0.208828</td>\n",
       "      <td>-0.706235</td>\n",
       "      <td>-0.410260</td>\n",
       "      <td>-0.404872</td>\n",
       "      <td>1.446419</td>\n",
       "      <td>1.773276</td>\n",
       "      <td>1.304860</td>\n",
       "      <td>0</td>\n",
       "    </tr>\n",
       "  </tbody>\n",
       "</table>\n",
       "<p>617 rows × 58 columns</p>\n",
       "</div>"
      ],
      "text/plain": [
       "               Id        AB        AF        AH        AM        AR        AX  \\\n",
       "0    000ff2bfdfe9 -0.572153 -0.170975 -0.261669 -0.237889 -0.189295 -1.900558   \n",
       "1    007255e47698 -0.709105 -1.097801 -0.261669 -0.028701 -0.189295 -0.750457   \n",
       "2    013f2bd269f5 -0.015212 -0.377169 -0.261669 -0.094845 -0.189295  0.465662   \n",
       "3    043ac50845d5 -0.480851  0.138196  0.012347  0.547477 -0.189295 -0.729610   \n",
       "4    044fb8a146ec -0.206946  0.100517 -0.261669 -0.356885 -0.189295 -0.628845   \n",
       "..            ...       ...       ...       ...       ...       ...       ...   \n",
       "612  fd3dafe738fd -0.699975 -0.161828  0.040232 -0.422762  0.275215 -0.802577   \n",
       "613  fd895603f071 -0.088253  0.852755 -0.261669  0.108831  0.556117  0.170319   \n",
       "614  fd8ef6377f76 -0.106514 -0.453742  0.090140  0.235206 -0.011673  0.990330   \n",
       "615  fe1942975e40 -0.243466 -0.973904 -0.261669 -0.219353 -0.189295  0.955584   \n",
       "616  ffcca4ded3bb  0.012178 -0.360885  3.350987  1.048310 -0.189295 -0.920714   \n",
       "\n",
       "           AY        AZ        BC  ...        FL        FR        FS  \\\n",
       "0   -0.083417 -0.173502 -0.038354  ...  0.162821 -0.035806 -0.250437   \n",
       "1   -0.083417  0.678919 -0.104787  ... -0.457925 -0.060566  0.113640   \n",
       "2   -0.083417  0.519453 -0.104787  ...  0.198663 -0.051023  0.597343   \n",
       "3   -0.083417  0.112088 -0.104787  ...  0.060364 -0.060566 -0.104806   \n",
       "4   -0.013229 -1.649292  1.445139  ...  0.237302  0.896815 -0.229632   \n",
       "..        ...       ...       ...  ...       ...       ...       ...   \n",
       "612  0.040875 -0.464891 -0.080610  ... -0.457925 -0.045332 -0.271241   \n",
       "613 -0.082686  0.473063 -0.065661  ...  0.417655 -0.045702  0.004417   \n",
       "614 -0.083417  1.113828 -0.104787  ... -0.457925 -0.060566 -0.271241   \n",
       "615 -0.083417 -0.699741 -0.104787  ...  0.333481 -0.054771  0.191657   \n",
       "616  0.135921 -1.649292 -0.001602  ... -0.457925 -0.047645 -0.208828   \n",
       "\n",
       "           GB        GE        GF        GH        GI        GL  Class  \n",
       "0   -0.940094 -0.410260 -0.655511 -0.948991  0.531241 -0.814049      1  \n",
       "1   -1.145070 -0.410260  0.687893 -0.238862 -0.509218  1.304860      0  \n",
       "2    1.637944 -0.299210 -0.051850 -0.351743 -0.424754 -0.806623      0  \n",
       "3   -0.219883 -0.342195 -0.650833  0.858232  1.101332 -0.810609      0  \n",
       "4   -0.432313  0.099920 -0.318309  1.409422 -0.395228 -0.816349      1  \n",
       "..        ...       ...       ...       ...       ...       ...    ...  \n",
       "612 -1.177680  0.593022 -0.340465 -0.694915  0.513497  1.304860      0  \n",
       "613  1.519617  2.535523 -0.599582 -0.186764  2.048314 -0.811625      0  \n",
       "614 -0.076400 -0.019561 -0.424307 -0.540129  1.903449  1.304860      0  \n",
       "615  0.387591 -0.410260 -0.657500 -0.646592 -0.370599 -0.807817      0  \n",
       "616 -0.706235 -0.410260 -0.404872  1.446419  1.773276  1.304860      0  \n",
       "\n",
       "[617 rows x 58 columns]"
      ]
     },
     "execution_count": 8,
     "metadata": {},
     "output_type": "execute_result"
    }
   ],
   "source": [
    "scaler = StandardScaler()\n",
    "df, test_df = train.copy(), test.copy()\n",
    "new_num_cols = train.select_dtypes(include=['float64']).columns\n",
    "df[new_num_cols] = scaler.fit_transform(train[new_num_cols])\n",
    "test_df[new_num_cols] = scaler.transform(test[new_num_cols])\n",
    "df"
   ]
  },
  {
   "cell_type": "markdown",
   "id": "5bdc792d",
   "metadata": {
    "papermill": {
     "duration": 0.005837,
     "end_time": "2023-07-16T10:59:11.025246",
     "exception": false,
     "start_time": "2023-07-16T10:59:11.019409",
     "status": "completed"
    },
    "tags": []
   },
   "source": [
    "## K-Means"
   ]
  },
  {
   "cell_type": "code",
   "execution_count": 9,
   "id": "a2627c95",
   "metadata": {
    "execution": {
     "iopub.execute_input": "2023-07-16T10:59:11.038623Z",
     "iopub.status.busy": "2023-07-16T10:59:11.038273Z",
     "iopub.status.idle": "2023-07-16T10:59:11.043787Z",
     "shell.execute_reply": "2023-07-16T10:59:11.042895Z"
    },
    "papermill": {
     "duration": 0.014792,
     "end_time": "2023-07-16T10:59:11.045957",
     "exception": false,
     "start_time": "2023-07-16T10:59:11.031165",
     "status": "completed"
    },
    "tags": []
   },
   "outputs": [],
   "source": [
    "# エルボー法によるK-meansの可視化関数の定義\n",
    "def plot_kmeans(input_data, num_cluster):\n",
    "    dist_list =[]\n",
    "    for i in range(1,num_cluster):\n",
    "        kmeans= KMeans(n_clusters=i, init='random', random_state=0)\n",
    "        kmeans.fit(input_data)\n",
    "        dist_list.append(kmeans.inertia_)\n",
    "    \n",
    "    # グラフを表示\n",
    "    plt.plot(range(1,num_cluster), dist_list,marker='+')\n",
    "    plt.xlabel('Number of clusters')\n",
    "    plt.ylabel('Distortion')"
   ]
  },
  {
   "cell_type": "code",
   "execution_count": 10,
   "id": "7a277b14",
   "metadata": {
    "execution": {
     "iopub.execute_input": "2023-07-16T10:59:11.060338Z",
     "iopub.status.busy": "2023-07-16T10:59:11.059999Z",
     "iopub.status.idle": "2023-07-16T10:59:11.064279Z",
     "shell.execute_reply": "2023-07-16T10:59:11.063218Z"
    },
    "papermill": {
     "duration": 0.013687,
     "end_time": "2023-07-16T10:59:11.066175",
     "exception": false,
     "start_time": "2023-07-16T10:59:11.052488",
     "status": "completed"
    },
    "tags": []
   },
   "outputs": [],
   "source": [
    "# K-Meansの可視化の上限設定\n",
    "NUM_CLUSTER = 30"
   ]
  },
  {
   "cell_type": "code",
   "execution_count": 11,
   "id": "a2a41a02",
   "metadata": {
    "execution": {
     "iopub.execute_input": "2023-07-16T10:59:11.080945Z",
     "iopub.status.busy": "2023-07-16T10:59:11.080567Z",
     "iopub.status.idle": "2023-07-16T10:59:14.240259Z",
     "shell.execute_reply": "2023-07-16T10:59:14.239020Z"
    },
    "papermill": {
     "duration": 3.169133,
     "end_time": "2023-07-16T10:59:14.242232",
     "exception": false,
     "start_time": "2023-07-16T10:59:11.073099",
     "status": "completed"
    },
    "tags": []
   },
   "outputs": [
    {
     "data": {
      "image/png": "[encoded data removed]",
      "text/plain": [
       "<Figure size 640x480 with 1 Axes>"
      ]
     },
     "metadata": {},
     "output_type": "display_data"
    }
   ],
   "source": [
    "# エルボー法によるK-Meansの実施\n",
    "plot_kmeans(df.drop([\"Id\", \"EJ\", \"Class\"], axis=1), NUM_CLUSTER)"
   ]
  },
  {
   "cell_type": "code",
   "execution_count": 12,
   "id": "bf6ed1a6",
   "metadata": {
    "execution": {
     "iopub.execute_input": "2023-07-16T10:59:14.258995Z",
     "iopub.status.busy": "2023-07-16T10:59:14.258614Z",
     "iopub.status.idle": "2023-07-16T10:59:14.305398Z",
     "shell.execute_reply": "2023-07-16T10:59:14.304426Z"
    },
    "papermill": {
     "duration": 0.058113,
     "end_time": "2023-07-16T10:59:14.307497",
     "exception": false,
     "start_time": "2023-07-16T10:59:14.249384",
     "status": "completed"
    },
    "tags": []
   },
   "outputs": [],
   "source": [
    "# クラスを含めない状態でクラスター数7でラベリング\n",
    "num_cluster = 5\n",
    "\n",
    "# kmeansクラスをインスタンス化\n",
    "kmeans = KMeans(init='random', n_clusters=num_cluster, random_state=0)\n",
    "\n",
    "# train dataでトレーニング\n",
    "kmeans.fit(df.drop([\"Id\", \"EJ\", \"Class\"], axis=1))\n",
    "\n",
    "# predict\n",
    "km_label_train =pd.Series(kmeans.labels_, name='cluster_number_{}'.format(num_cluster))\n",
    "km_label_test =pd.Series(kmeans.predict(test_df.drop([\"Id\", \"EJ\"], axis=1)), name='cluster_number_{}'.format(num_cluster))"
   ]
  },
  {
   "cell_type": "code",
   "execution_count": 13,
   "id": "cb0e014d",
   "metadata": {
    "execution": {
     "iopub.execute_input": "2023-07-16T10:59:14.323390Z",
     "iopub.status.busy": "2023-07-16T10:59:14.322182Z",
     "iopub.status.idle": "2023-07-16T10:59:14.329069Z",
     "shell.execute_reply": "2023-07-16T10:59:14.327828Z"
    },
    "papermill": {
     "duration": 0.017866,
     "end_time": "2023-07-16T10:59:14.332135",
     "exception": false,
     "start_time": "2023-07-16T10:59:14.314269",
     "status": "completed"
    },
    "tags": []
   },
   "outputs": [],
   "source": [
    "# 本番データに結合\n",
    "df[\"cluster_label\"] = km_label_train\n",
    "test_df[\"cluster_label\"] = km_label_test"
   ]
  },
  {
   "cell_type": "code",
   "execution_count": 14,
   "id": "424d3e0a",
   "metadata": {
    "execution": {
     "iopub.execute_input": "2023-07-16T10:59:14.348793Z",
     "iopub.status.busy": "2023-07-16T10:59:14.348205Z",
     "iopub.status.idle": "2023-07-16T10:59:14.358585Z",
     "shell.execute_reply": "2023-07-16T10:59:14.357912Z"
    },
    "papermill": {
     "duration": 0.020549,
     "end_time": "2023-07-16T10:59:14.360272",
     "exception": false,
     "start_time": "2023-07-16T10:59:14.339723",
     "status": "completed"
    },
    "tags": []
   },
   "outputs": [
    {
     "data": {
      "text/plain": [
       "cluster_label\n",
       "0     0\n",
       "1    30\n",
       "2    18\n",
       "3    11\n",
       "4    49\n",
       "Name: Class, dtype: int64"
      ]
     },
     "execution_count": 14,
     "metadata": {},
     "output_type": "execute_result"
    }
   ],
   "source": [
    "df.groupby([\"cluster_label\"])[\"Class\"].sum()"
   ]
  },
  {
   "cell_type": "markdown",
   "id": "73bcfd7e",
   "metadata": {
    "papermill": {
     "duration": 0.006311,
     "end_time": "2023-07-16T10:59:14.373503",
     "exception": false,
     "start_time": "2023-07-16T10:59:14.367192",
     "status": "completed"
    },
    "tags": []
   },
   "source": [
    "## aggrigationの実装"
   ]
  },
  {
   "cell_type": "code",
   "execution_count": 15,
   "id": "68c998b2",
   "metadata": {
    "execution": {
     "iopub.execute_input": "2023-07-16T10:59:14.388297Z",
     "iopub.status.busy": "2023-07-16T10:59:14.387785Z",
     "iopub.status.idle": "2023-07-16T10:59:14.394017Z",
     "shell.execute_reply": "2023-07-16T10:59:14.392895Z"
    },
    "papermill": {
     "duration": 0.016048,
     "end_time": "2023-07-16T10:59:14.396055",
     "exception": false,
     "start_time": "2023-07-16T10:59:14.380007",
     "status": "completed"
    },
    "tags": []
   },
   "outputs": [
    {
     "data": {
      "text/plain": [
       "0    4\n",
       "1    4\n",
       "2    4\n",
       "3    4\n",
       "4    4\n",
       "Name: cluster_label, dtype: int32"
      ]
     },
     "execution_count": 15,
     "metadata": {},
     "output_type": "execute_result"
    }
   ],
   "source": [
    "test_df[\"cluster_label\"]"
   ]
  },
  {
   "cell_type": "code",
   "execution_count": 16,
   "id": "a70eeeb8",
   "metadata": {
    "execution": {
     "iopub.execute_input": "2023-07-16T10:59:14.411465Z",
     "iopub.status.busy": "2023-07-16T10:59:14.410963Z",
     "iopub.status.idle": "2023-07-16T10:59:14.489695Z",
     "shell.execute_reply": "2023-07-16T10:59:14.488982Z"
    },
    "papermill": {
     "duration": 0.088887,
     "end_time": "2023-07-16T10:59:14.491875",
     "exception": false,
     "start_time": "2023-07-16T10:59:14.402988",
     "status": "completed"
    },
    "tags": []
   },
   "outputs": [],
   "source": [
    "agg_cols = ['min', 'max', 'mean', 'std']\n",
    "cat_cols = [\"cluster_label\"]\n",
    "\n",
    "for col in cat_cols:\n",
    "    grp_df = df.groupby(col)[num_cols].agg(agg_cols)\n",
    "    grp_df.columns = [f'{col}_' + '_'.join(c) for c in grp_df.columns]\n",
    "    df = df.merge(grp_df, on=col, how='left')\n",
    "    test_df = test_df.merge(grp_df, on=col, how='left')"
   ]
  },
  {
   "cell_type": "markdown",
   "id": "9caa5cde",
   "metadata": {
    "papermill": {
     "duration": 0.006621,
     "end_time": "2023-07-16T10:59:14.505619",
     "exception": false,
     "start_time": "2023-07-16T10:59:14.498998",
     "status": "completed"
    },
    "tags": []
   },
   "source": [
    "### CV"
   ]
  },
  {
   "cell_type": "code",
   "execution_count": 17,
   "id": "9d03da67",
   "metadata": {
    "execution": {
     "iopub.execute_input": "2023-07-16T10:59:14.520738Z",
     "iopub.status.busy": "2023-07-16T10:59:14.520198Z",
     "iopub.status.idle": "2023-07-16T10:59:14.536927Z",
     "shell.execute_reply": "2023-07-16T10:59:14.535588Z"
    },
    "papermill": {
     "duration": 0.027159,
     "end_time": "2023-07-16T10:59:14.539384",
     "exception": false,
     "start_time": "2023-07-16T10:59:14.512225",
     "status": "completed"
    },
    "tags": []
   },
   "outputs": [
    {
     "data": {
      "text/plain": [
       "fold  Class\n",
       "0     0        101\n",
       "      1         23\n",
       "1     0        102\n",
       "      1         22\n",
       "2     0        102\n",
       "      1         21\n",
       "3     0        102\n",
       "      1         21\n",
       "4     0        102\n",
       "      1         21\n",
       "Name: Class, dtype: int64"
      ]
     },
     "execution_count": 17,
     "metadata": {},
     "output_type": "execute_result"
    }
   ],
   "source": [
    "kf = StratifiedKFold(n_splits=5, random_state=42, shuffle=True)\n",
    "df['fold'] = -1\n",
    "\n",
    "for fold, (train_idx, test_idx) in enumerate(kf.split(df, greeks['Alpha'])):\n",
    "    df.loc[test_idx, 'fold'] = fold\n",
    "\n",
    "df.groupby('fold')[\"Class\"].value_counts()"
   ]
  },
  {
   "cell_type": "markdown",
   "id": "3f56f5a2",
   "metadata": {
    "papermill": {
     "duration": 0.006701,
     "end_time": "2023-07-16T10:59:14.553207",
     "exception": false,
     "start_time": "2023-07-16T10:59:14.546506",
     "status": "completed"
    },
    "tags": []
   },
   "source": [
    "### Training"
   ]
  },
  {
   "cell_type": "code",
   "execution_count": 18,
   "id": "47d9eef5",
   "metadata": {
    "execution": {
     "iopub.execute_input": "2023-07-16T10:59:14.569263Z",
     "iopub.status.busy": "2023-07-16T10:59:14.568924Z",
     "iopub.status.idle": "2023-07-16T10:59:22.459781Z",
     "shell.execute_reply": "2023-07-16T10:59:22.458825Z"
    },
    "papermill": {
     "duration": 7.90164,
     "end_time": "2023-07-16T10:59:22.461733",
     "exception": false,
     "start_time": "2023-07-16T10:59:14.560093",
     "status": "completed"
    },
    "tags": []
   },
   "outputs": [
    {
     "name": "stdout",
     "output_type": "stream",
     "text": [
      "Fold: 0, log loss: 0.248, balanced los loss: 0.166\n",
      "Fold: 1, log loss: 0.197, balanced los loss: 0.148\n",
      "[1000]\tvalid_0's balanced_log_loss: 0.0278755\n",
      "Fold: 2, log loss: 0.04, balanced los loss: 0.026\n",
      "Fold: 3, log loss: 0.23, balanced los loss: 0.117\n",
      "Fold: 4, log loss: 0.163, balanced los loss: 0.114\n",
      "\n",
      "Log Loss\n",
      "[0.24820016964081343, 0.19678214912437839, 0.03988218460120327, 0.23017194625492457, 0.16287793060552827]\n",
      "0.17558287604536957 0.07386303594031751\n",
      "\n",
      "Balanced Log Loss\n",
      "[0.1657535960395894, 0.14839710013089008, 0.02600793065347552, 0.11711760242852859, 0.11416020354508803]\n",
      "0.11428728655951433 0.04819446422685678\n",
      "\n",
      "Weights\n",
      "[6.033051613318574, 6.738676154169954, 38.449810303011056, 8.538426156821759, 8.75961998092484]\n"
     ]
    }
   ],
   "source": [
    "final_valid_predictions = {}\n",
    "final_test_predictions = []\n",
    "scores = []\n",
    "log_losses = []\n",
    "balanced_log_losses = []\n",
    "weights = []\n",
    "\n",
    "for fold in range(5):\n",
    "    train_df = df[df['fold'] != fold]\n",
    "    valid_df = df[df['fold'] == fold]\n",
    "    valid_ids = valid_df.Id.values.tolist()\n",
    "\n",
    "    X_train, y_train = train_df.drop(['Id', 'Class', 'fold'], axis=1), train_df['Class']\n",
    "    X_valid, y_valid = valid_df.drop(['Id', 'Class', 'fold'], axis=1), valid_df['Class']\n",
    "    \n",
    "    lgb = LGBMClassifier(boosting_type='goss', learning_rate=0.06733232950390658, n_estimators = 50000, \n",
    "                         early_stopping_round = 300, random_state=42,\n",
    "                        subsample=0.6970532011679706,\n",
    "                        colsample_bytree=0.6055755840633003,\n",
    "                         class_weight='balanced',\n",
    "                         metric='none', is_unbalance=True, max_depth=8)\n",
    "    \n",
    "    lgb.fit(X_train, y_train, eval_set=(X_valid, y_valid), verbose=1000,\n",
    "            eval_metric=lgb_metric)\n",
    "    \n",
    "    y_pred = lgb.predict_proba(X_valid)\n",
    "    preds_test  = lgb.predict_proba(test_df.drop(['Id'], axis=1).values)\n",
    "    \n",
    "    final_test_predictions.append(preds_test)\n",
    "    final_valid_predictions.update(dict(zip(valid_ids, y_pred)))\n",
    "\n",
    "    logloss = log_loss(y_valid, y_pred)\n",
    "    balanced_logloss = balanced_log_loss(y_valid, y_pred[:, 1])\n",
    "    log_losses.append(logloss)\n",
    "    balanced_log_losses.append(balanced_logloss)\n",
    "    weights.append(1/balanced_logloss)\n",
    "    \n",
    "    print(f\"Fold: {fold}, log loss: {round(logloss, 3)}, balanced los loss: {round(balanced_logloss, 3)}\")\n",
    "\n",
    "print()\n",
    "print(\"Log Loss\")\n",
    "print(log_losses)\n",
    "print(np.mean(log_losses), np.std(log_losses))\n",
    "print()\n",
    "print(\"Balanced Log Loss\")\n",
    "print(balanced_log_losses)\n",
    "print(np.mean(balanced_log_losses), np.std(balanced_log_losses))\n",
    "print()\n",
    "print(\"Weights\")\n",
    "print(weights)"
   ]
  },
  {
   "cell_type": "code",
   "execution_count": 19,
   "id": "9ed3b49f",
   "metadata": {
    "execution": {
     "iopub.execute_input": "2023-07-16T10:59:22.478972Z",
     "iopub.status.busy": "2023-07-16T10:59:22.478429Z",
     "iopub.status.idle": "2023-07-16T10:59:22.485303Z",
     "shell.execute_reply": "2023-07-16T10:59:22.484669Z"
    },
    "papermill": {
     "duration": 0.01754,
     "end_time": "2023-07-16T10:59:22.486873",
     "exception": false,
     "start_time": "2023-07-16T10:59:22.469333",
     "status": "completed"
    },
    "tags": []
   },
   "outputs": [
    {
     "data": {
      "text/plain": [
       "array([[0.80825198, 0.19174802],\n",
       "       [0.80825198, 0.19174802],\n",
       "       [0.80825198, 0.19174802],\n",
       "       [0.80825198, 0.19174802],\n",
       "       [0.80825198, 0.19174802]])"
      ]
     },
     "execution_count": 19,
     "metadata": {},
     "output_type": "execute_result"
    }
   ],
   "source": [
    "test_preds = np.zeros((test_df.shape[0],2))\n",
    "for i in range(5):\n",
    "    test_preds[:, 0] += weights[i] * final_test_predictions[i][:, 0]\n",
    "    test_preds[:, 1] += weights[i] * final_test_predictions[i][:, 1]\n",
    "test_preds /= sum(weights)\n",
    "test_preds"
   ]
  },
  {
   "cell_type": "code",
   "execution_count": 20,
   "id": "3a5497b6",
   "metadata": {
    "execution": {
     "iopub.execute_input": "2023-07-16T10:59:22.503121Z",
     "iopub.status.busy": "2023-07-16T10:59:22.502754Z",
     "iopub.status.idle": "2023-07-16T10:59:22.529265Z",
     "shell.execute_reply": "2023-07-16T10:59:22.527910Z"
    },
    "papermill": {
     "duration": 0.038155,
     "end_time": "2023-07-16T10:59:22.532278",
     "exception": false,
     "start_time": "2023-07-16T10:59:22.494123",
     "status": "completed"
    },
    "tags": []
   },
   "outputs": [
    {
     "data": {
      "text/html": [
       "<div>\n",
       "<style scoped>\n",
       "    .dataframe tbody tr th:only-of-type {\n",
       "        vertical-align: middle;\n",
       "    }\n",
       "\n",
       "    .dataframe tbody tr th {\n",
       "        vertical-align: top;\n",
       "    }\n",
       "\n",
       "    .dataframe thead th {\n",
       "        text-align: right;\n",
       "    }\n",
       "</style>\n",
       "<table border=\"1\" class=\"dataframe\">\n",
       "  <thead>\n",
       "    <tr style=\"text-align: right;\">\n",
       "      <th></th>\n",
       "      <th>Id</th>\n",
       "      <th>class_0</th>\n",
       "      <th>class_1</th>\n",
       "    </tr>\n",
       "  </thead>\n",
       "  <tbody>\n",
       "    <tr>\n",
       "      <th>0</th>\n",
       "      <td>00eed32682bb</td>\n",
       "      <td>0.808252</td>\n",
       "      <td>0.191748</td>\n",
       "    </tr>\n",
       "    <tr>\n",
       "      <th>1</th>\n",
       "      <td>010ebe33f668</td>\n",
       "      <td>0.808252</td>\n",
       "      <td>0.191748</td>\n",
       "    </tr>\n",
       "    <tr>\n",
       "      <th>2</th>\n",
       "      <td>02fa521e1838</td>\n",
       "      <td>0.808252</td>\n",
       "      <td>0.191748</td>\n",
       "    </tr>\n",
       "    <tr>\n",
       "      <th>3</th>\n",
       "      <td>040e15f562a2</td>\n",
       "      <td>0.808252</td>\n",
       "      <td>0.191748</td>\n",
       "    </tr>\n",
       "    <tr>\n",
       "      <th>4</th>\n",
       "      <td>046e85c7cc7f</td>\n",
       "      <td>0.808252</td>\n",
       "      <td>0.191748</td>\n",
       "    </tr>\n",
       "  </tbody>\n",
       "</table>\n",
       "</div>"
      ],
      "text/plain": [
       "             Id   class_0   class_1\n",
       "0  00eed32682bb  0.808252  0.191748\n",
       "1  010ebe33f668  0.808252  0.191748\n",
       "2  02fa521e1838  0.808252  0.191748\n",
       "3  040e15f562a2  0.808252  0.191748\n",
       "4  046e85c7cc7f  0.808252  0.191748"
      ]
     },
     "execution_count": 20,
     "metadata": {},
     "output_type": "execute_result"
    }
   ],
   "source": [
    "final_valid_predictions = pd.DataFrame.from_dict(final_valid_predictions, orient=\"index\").reset_index()\n",
    "final_valid_predictions.columns = ['Id', 'class_0', 'class_1']\n",
    "final_valid_predictions.to_csv(r\"oof.csv\", index=False)\n",
    "\n",
    "test_dict = {}\n",
    "test_dict.update(dict(zip(test.Id.values.tolist(), test_preds)))\n",
    "submission = pd.DataFrame.from_dict(test_dict, orient=\"index\").reset_index()\n",
    "submission.columns = ['Id', 'class_0', 'class_1']                       \n",
    "\n",
    "submission.to_csv(r\"submission.csv\", index=False)\n",
    "submission"
   ]
  }
 ],
 "metadata": {
  "kernelspec": {
   "display_name": "Python 3",
   "language": "python",
   "name": "python3"
  },
  "language_info": {
   "codemirror_mode": {
    "name": "ipython",
    "version": 3
   },
   "file_extension": ".py",
   "mimetype": "text/x-python",
   "name": "python",
   "nbconvert_exporter": "python",
   "pygments_lexer": "ipython3",
   "version": "3.10.10"
  },
  "papermill": {
   "default_parameters": {},
   "duration": 26.623021,
   "end_time": "2023-07-16T10:59:23.562691",
   "environment_variables": {},
   "exception": null,
   "input_path": "__notebook__.ipynb",
   "output_path": "__notebook__.ipynb",
   "parameters": {},
   "start_time": "2023-07-16T10:58:56.939670",
   "version": "2.4.0"
  }
 },
 "nbformat": 4,
 "nbformat_minor": 5
}
