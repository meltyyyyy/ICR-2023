{
 "cells": [
  {
   "cell_type": "markdown",
   "id": "d7537a61",
   "metadata": {
    "papermill": {
     "duration": 0.012389,
     "end_time": "2023-07-17T00:59:38.752322",
     "exception": false,
     "start_time": "2023-07-17T00:59:38.739933",
     "status": "completed"
    },
    "tags": []
   },
   "source": [
    "### Imports"
   ]
  },
  {
   "cell_type": "code",
   "execution_count": 1,
   "id": "5d87e9ce",
   "metadata": {
    "_cell_guid": "b1076dfc-b9ad-4769-8c92-a6c4dae69d19",
    "_uuid": "8f2839f25d086af736a60e9eeb907d3b93b6e0e5",
    "execution": {
     "iopub.execute_input": "2023-07-17T00:59:38.779303Z",
     "iopub.status.busy": "2023-07-17T00:59:38.778647Z",
     "iopub.status.idle": "2023-07-17T00:59:42.286389Z",
     "shell.execute_reply": "2023-07-17T00:59:42.284622Z"
    },
    "papermill": {
     "duration": 3.52515,
     "end_time": "2023-07-17T00:59:42.289811",
     "exception": false,
     "start_time": "2023-07-17T00:59:38.764661",
     "status": "completed"
    },
    "tags": []
   },
   "outputs": [
    {
     "name": "stderr",
     "output_type": "stream",
     "text": [
      "/opt/conda/lib/python3.10/site-packages/scipy/__init__.py:146: UserWarning: A NumPy version >=1.16.5 and <1.23.0 is required for this version of SciPy (detected version 1.23.5\n",
      "  warnings.warn(f\"A NumPy version >={np_minversion} and <{np_maxversion}\"\n"
     ]
    }
   ],
   "source": [
    "import numpy as np\n",
    "import pandas as pd\n",
    "import matplotlib.pyplot as plt\n",
    "import seaborn as sns\n",
    "from tqdm.notebook import tqdm\n",
    "import math\n",
    "\n",
    "from sklearn.metrics import log_loss, make_scorer\n",
    "from sklearn.preprocessing import MinMaxScaler, StandardScaler\n",
    "from sklearn.model_selection import KFold, StratifiedKFold, StratifiedGroupKFold\n",
    "\n",
    "from lightgbm import LGBMClassifier\n",
    "from sklearn.cluster import KMeans\n",
    "\n",
    "import warnings\n",
    "warnings.filterwarnings(\"ignore\")"
   ]
  },
  {
   "cell_type": "markdown",
   "id": "99f12691",
   "metadata": {
    "papermill": {
     "duration": 0.011408,
     "end_time": "2023-07-17T00:59:42.314573",
     "exception": false,
     "start_time": "2023-07-17T00:59:42.303165",
     "status": "completed"
    },
    "tags": []
   },
   "source": [
    "### Data Prep"
   ]
  },
  {
   "cell_type": "code",
   "execution_count": 2,
   "id": "077034d0",
   "metadata": {
    "execution": {
     "iopub.execute_input": "2023-07-17T00:59:42.341946Z",
     "iopub.status.busy": "2023-07-17T00:59:42.341423Z",
     "iopub.status.idle": "2023-07-17T00:59:42.405078Z",
     "shell.execute_reply": "2023-07-17T00:59:42.403451Z"
    },
    "papermill": {
     "duration": 0.08089,
     "end_time": "2023-07-17T00:59:42.407996",
     "exception": false,
     "start_time": "2023-07-17T00:59:42.327106",
     "status": "completed"
    },
    "tags": []
   },
   "outputs": [],
   "source": [
    "COMP_PATH = \"/kaggle/input/icr-identify-age-related-conditions\"\n",
    "train = pd.read_csv(f\"{COMP_PATH}/train.csv\")\n",
    "test = pd.read_csv(f\"{COMP_PATH}/test.csv\")\n",
    "sample_submission = pd.read_csv(f\"{COMP_PATH}/sample_submission.csv\")\n",
    "greeks = pd.read_csv(f\"{COMP_PATH}/greeks.csv\")"
   ]
  },
  {
   "cell_type": "code",
   "execution_count": 3,
   "id": "f7f0adc6",
   "metadata": {
    "execution": {
     "iopub.execute_input": "2023-07-17T00:59:42.437126Z",
     "iopub.status.busy": "2023-07-17T00:59:42.435922Z",
     "iopub.status.idle": "2023-07-17T00:59:42.549707Z",
     "shell.execute_reply": "2023-07-17T00:59:42.548431Z"
    },
    "papermill": {
     "duration": 0.132141,
     "end_time": "2023-07-17T00:59:42.552499",
     "exception": false,
     "start_time": "2023-07-17T00:59:42.420358",
     "status": "completed"
    },
    "tags": []
   },
   "outputs": [
    {
     "data": {
      "text/html": [
       "<div>\n",
       "<style scoped>\n",
       "    .dataframe tbody tr th:only-of-type {\n",
       "        vertical-align: middle;\n",
       "    }\n",
       "\n",
       "    .dataframe tbody tr th {\n",
       "        vertical-align: top;\n",
       "    }\n",
       "\n",
       "    .dataframe thead th {\n",
       "        text-align: right;\n",
       "    }\n",
       "</style>\n",
       "<table border=\"1\" class=\"dataframe\">\n",
       "  <thead>\n",
       "    <tr style=\"text-align: right;\">\n",
       "      <th></th>\n",
       "      <th>Id</th>\n",
       "      <th>AB</th>\n",
       "      <th>AF</th>\n",
       "      <th>AH</th>\n",
       "      <th>AM</th>\n",
       "      <th>AR</th>\n",
       "      <th>AX</th>\n",
       "      <th>AY</th>\n",
       "      <th>AZ</th>\n",
       "      <th>BC</th>\n",
       "      <th>...</th>\n",
       "      <th>FL</th>\n",
       "      <th>FR</th>\n",
       "      <th>FS</th>\n",
       "      <th>GB</th>\n",
       "      <th>GE</th>\n",
       "      <th>GF</th>\n",
       "      <th>GH</th>\n",
       "      <th>GI</th>\n",
       "      <th>GL</th>\n",
       "      <th>Class</th>\n",
       "    </tr>\n",
       "  </thead>\n",
       "  <tbody>\n",
       "    <tr>\n",
       "      <th>0</th>\n",
       "      <td>000ff2bfdfe9</td>\n",
       "      <td>0.209377</td>\n",
       "      <td>3109.03329</td>\n",
       "      <td>85.200147</td>\n",
       "      <td>22.394407</td>\n",
       "      <td>8.138688</td>\n",
       "      <td>0.699861</td>\n",
       "      <td>0.025578</td>\n",
       "      <td>9.812214</td>\n",
       "      <td>5.555634</td>\n",
       "      <td>...</td>\n",
       "      <td>7.298162</td>\n",
       "      <td>1.73855</td>\n",
       "      <td>0.094822</td>\n",
       "      <td>11.339138</td>\n",
       "      <td>72.611063</td>\n",
       "      <td>2003.810319</td>\n",
       "      <td>22.136229</td>\n",
       "      <td>69.834944</td>\n",
       "      <td>0.120343</td>\n",
       "      <td>1</td>\n",
       "    </tr>\n",
       "    <tr>\n",
       "      <th>1</th>\n",
       "      <td>007255e47698</td>\n",
       "      <td>0.145282</td>\n",
       "      <td>978.76416</td>\n",
       "      <td>85.200147</td>\n",
       "      <td>36.968889</td>\n",
       "      <td>8.138688</td>\n",
       "      <td>3.632190</td>\n",
       "      <td>0.025578</td>\n",
       "      <td>13.517790</td>\n",
       "      <td>1.229900</td>\n",
       "      <td>...</td>\n",
       "      <td>0.173229</td>\n",
       "      <td>0.49706</td>\n",
       "      <td>0.568932</td>\n",
       "      <td>9.292698</td>\n",
       "      <td>72.611063</td>\n",
       "      <td>27981.562750</td>\n",
       "      <td>29.135430</td>\n",
       "      <td>32.131996</td>\n",
       "      <td>21.978000</td>\n",
       "      <td>0</td>\n",
       "    </tr>\n",
       "    <tr>\n",
       "      <th>2</th>\n",
       "      <td>013f2bd269f5</td>\n",
       "      <td>0.470030</td>\n",
       "      <td>2635.10654</td>\n",
       "      <td>85.200147</td>\n",
       "      <td>32.360553</td>\n",
       "      <td>8.138688</td>\n",
       "      <td>6.732840</td>\n",
       "      <td>0.025578</td>\n",
       "      <td>12.824570</td>\n",
       "      <td>1.229900</td>\n",
       "      <td>...</td>\n",
       "      <td>7.709560</td>\n",
       "      <td>0.97556</td>\n",
       "      <td>1.198821</td>\n",
       "      <td>37.077772</td>\n",
       "      <td>88.609437</td>\n",
       "      <td>13676.957810</td>\n",
       "      <td>28.022851</td>\n",
       "      <td>35.192676</td>\n",
       "      <td>0.196941</td>\n",
       "      <td>0</td>\n",
       "    </tr>\n",
       "    <tr>\n",
       "      <th>3</th>\n",
       "      <td>043ac50845d5</td>\n",
       "      <td>0.252107</td>\n",
       "      <td>3819.65177</td>\n",
       "      <td>120.201618</td>\n",
       "      <td>77.112203</td>\n",
       "      <td>8.138688</td>\n",
       "      <td>3.685344</td>\n",
       "      <td>0.025578</td>\n",
       "      <td>11.053708</td>\n",
       "      <td>1.229900</td>\n",
       "      <td>...</td>\n",
       "      <td>6.122162</td>\n",
       "      <td>0.49706</td>\n",
       "      <td>0.284466</td>\n",
       "      <td>18.529584</td>\n",
       "      <td>82.416803</td>\n",
       "      <td>2094.262452</td>\n",
       "      <td>39.948656</td>\n",
       "      <td>90.493248</td>\n",
       "      <td>0.155829</td>\n",
       "      <td>0</td>\n",
       "    </tr>\n",
       "    <tr>\n",
       "      <th>4</th>\n",
       "      <td>044fb8a146ec</td>\n",
       "      <td>0.380297</td>\n",
       "      <td>3733.04844</td>\n",
       "      <td>85.200147</td>\n",
       "      <td>14.103738</td>\n",
       "      <td>8.138688</td>\n",
       "      <td>3.942255</td>\n",
       "      <td>0.054810</td>\n",
       "      <td>3.396778</td>\n",
       "      <td>102.151980</td>\n",
       "      <td>...</td>\n",
       "      <td>8.153058</td>\n",
       "      <td>48.50134</td>\n",
       "      <td>0.121914</td>\n",
       "      <td>16.408728</td>\n",
       "      <td>146.109943</td>\n",
       "      <td>8524.370502</td>\n",
       "      <td>45.381316</td>\n",
       "      <td>36.262628</td>\n",
       "      <td>0.096614</td>\n",
       "      <td>1</td>\n",
       "    </tr>\n",
       "  </tbody>\n",
       "</table>\n",
       "<p>5 rows × 58 columns</p>\n",
       "</div>"
      ],
      "text/plain": [
       "             Id        AB          AF          AH         AM        AR  \\\n",
       "0  000ff2bfdfe9  0.209377  3109.03329   85.200147  22.394407  8.138688   \n",
       "1  007255e47698  0.145282   978.76416   85.200147  36.968889  8.138688   \n",
       "2  013f2bd269f5  0.470030  2635.10654   85.200147  32.360553  8.138688   \n",
       "3  043ac50845d5  0.252107  3819.65177  120.201618  77.112203  8.138688   \n",
       "4  044fb8a146ec  0.380297  3733.04844   85.200147  14.103738  8.138688   \n",
       "\n",
       "         AX        AY         AZ          BC  ...        FL        FR  \\\n",
       "0  0.699861  0.025578   9.812214    5.555634  ...  7.298162   1.73855   \n",
       "1  3.632190  0.025578  13.517790    1.229900  ...  0.173229   0.49706   \n",
       "2  6.732840  0.025578  12.824570    1.229900  ...  7.709560   0.97556   \n",
       "3  3.685344  0.025578  11.053708    1.229900  ...  6.122162   0.49706   \n",
       "4  3.942255  0.054810   3.396778  102.151980  ...  8.153058  48.50134   \n",
       "\n",
       "         FS         GB          GE            GF         GH         GI  \\\n",
       "0  0.094822  11.339138   72.611063   2003.810319  22.136229  69.834944   \n",
       "1  0.568932   9.292698   72.611063  27981.562750  29.135430  32.131996   \n",
       "2  1.198821  37.077772   88.609437  13676.957810  28.022851  35.192676   \n",
       "3  0.284466  18.529584   82.416803   2094.262452  39.948656  90.493248   \n",
       "4  0.121914  16.408728  146.109943   8524.370502  45.381316  36.262628   \n",
       "\n",
       "          GL  Class  \n",
       "0   0.120343      1  \n",
       "1  21.978000      0  \n",
       "2   0.196941      0  \n",
       "3   0.155829      0  \n",
       "4   0.096614      1  \n",
       "\n",
       "[5 rows x 58 columns]"
      ]
     },
     "execution_count": 3,
     "metadata": {},
     "output_type": "execute_result"
    }
   ],
   "source": [
    "train.fillna(train.median(), inplace=True)\n",
    "test.fillna(test.median(), inplace=True)\n",
    "train.head()"
   ]
  },
  {
   "cell_type": "code",
   "execution_count": 4,
   "id": "265853f7",
   "metadata": {
    "execution": {
     "iopub.execute_input": "2023-07-17T00:59:42.581129Z",
     "iopub.status.busy": "2023-07-17T00:59:42.580628Z",
     "iopub.status.idle": "2023-07-17T00:59:42.589784Z",
     "shell.execute_reply": "2023-07-17T00:59:42.588246Z"
    },
    "papermill": {
     "duration": 0.029013,
     "end_time": "2023-07-17T00:59:42.593850",
     "exception": false,
     "start_time": "2023-07-17T00:59:42.564837",
     "status": "completed"
    },
    "tags": []
   },
   "outputs": [
    {
     "name": "stdout",
     "output_type": "stream",
     "text": [
      "No of Columns: 58\n"
     ]
    }
   ],
   "source": [
    "cols = train.columns\n",
    "feat_cols = cols[1:]\n",
    "num_cols = train.select_dtypes(include=['float64']).columns\n",
    "print(\"No of Columns:\", len(cols))"
   ]
  },
  {
   "cell_type": "markdown",
   "id": "2640b6e0",
   "metadata": {
    "papermill": {
     "duration": 0.012161,
     "end_time": "2023-07-17T00:59:42.619372",
     "exception": false,
     "start_time": "2023-07-17T00:59:42.607211",
     "status": "completed"
    },
    "tags": []
   },
   "source": [
    "### Metric"
   ]
  },
  {
   "cell_type": "code",
   "execution_count": 5,
   "id": "39681725",
   "metadata": {
    "execution": {
     "iopub.execute_input": "2023-07-17T00:59:42.647515Z",
     "iopub.status.busy": "2023-07-17T00:59:42.646550Z",
     "iopub.status.idle": "2023-07-17T00:59:42.659954Z",
     "shell.execute_reply": "2023-07-17T00:59:42.658545Z"
    },
    "papermill": {
     "duration": 0.030415,
     "end_time": "2023-07-17T00:59:42.662824",
     "exception": false,
     "start_time": "2023-07-17T00:59:42.632409",
     "status": "completed"
    },
    "tags": []
   },
   "outputs": [],
   "source": [
    "def competition_log_loss(y_true, y_pred):\n",
    "    N_0 = np.sum(1 - y_true)\n",
    "    N_1 = np.sum(y_true)\n",
    "    p_1 = np.clip(y_pred, 1e-15, 1 - 1e-15)\n",
    "    p_0 = 1 - p_1\n",
    "    log_loss_0 = -np.sum((1 - y_true) * np.log(p_0)) / N_0\n",
    "    log_loss_1 = -np.sum(y_true * np.log(p_1)) / N_1\n",
    "    return (log_loss_0 + log_loss_1)/2\n",
    "\n",
    "def balanced_log_loss(y_true, y_pred):\n",
    "    N_0 = np.sum(1 - y_true)\n",
    "    N_1 = np.sum(y_true)\n",
    "    p_1 = np.clip(y_pred, 1e-15, 1 - 1e-15)\n",
    "    p_0 = 1 - p_1\n",
    "    log_loss_0 = -np.sum((1 - y_true) * np.log(p_0))\n",
    "    log_loss_1 = -np.sum(y_true * np.log(p_1))\n",
    "    w_0 = 1 / N_0\n",
    "    w_1 = 1 / N_1\n",
    "    balanced_log_loss = 2*(w_0 * log_loss_0 + w_1 * log_loss_1) / (w_0 + w_1)\n",
    "    return balanced_log_loss/(N_0+N_1)"
   ]
  },
  {
   "cell_type": "code",
   "execution_count": 6,
   "id": "612ca7e6",
   "metadata": {
    "execution": {
     "iopub.execute_input": "2023-07-17T00:59:42.690026Z",
     "iopub.status.busy": "2023-07-17T00:59:42.689535Z",
     "iopub.status.idle": "2023-07-17T00:59:42.695635Z",
     "shell.execute_reply": "2023-07-17T00:59:42.694673Z"
    },
    "papermill": {
     "duration": 0.023032,
     "end_time": "2023-07-17T00:59:42.698206",
     "exception": false,
     "start_time": "2023-07-17T00:59:42.675174",
     "status": "completed"
    },
    "tags": []
   },
   "outputs": [],
   "source": [
    "def lgb_metric(y_true, y_pred):\n",
    "    return 'balanced_log_loss', balanced_log_loss(y_true, y_pred), False"
   ]
  },
  {
   "cell_type": "markdown",
   "id": "f3c33a72",
   "metadata": {
    "papermill": {
     "duration": 0.011846,
     "end_time": "2023-07-17T00:59:42.722314",
     "exception": false,
     "start_time": "2023-07-17T00:59:42.710468",
     "status": "completed"
    },
    "tags": []
   },
   "source": [
    "### Feature Engineering"
   ]
  },
  {
   "cell_type": "code",
   "execution_count": 7,
   "id": "6cd5811e",
   "metadata": {
    "execution": {
     "iopub.execute_input": "2023-07-17T00:59:42.749917Z",
     "iopub.status.busy": "2023-07-17T00:59:42.749499Z",
     "iopub.status.idle": "2023-07-17T00:59:42.761481Z",
     "shell.execute_reply": "2023-07-17T00:59:42.760474Z"
    },
    "papermill": {
     "duration": 0.028617,
     "end_time": "2023-07-17T00:59:42.763930",
     "exception": false,
     "start_time": "2023-07-17T00:59:42.735313",
     "status": "completed"
    },
    "tags": []
   },
   "outputs": [],
   "source": [
    "# Label encoding\n",
    "train['EJ'] = train['EJ'].map({'A': 0, 'B': 1})\n",
    "test['EJ']  = test['EJ'].map({'A': 0, 'B': 1})"
   ]
  },
  {
   "cell_type": "code",
   "execution_count": 8,
   "id": "7c2dace3",
   "metadata": {
    "execution": {
     "iopub.execute_input": "2023-07-17T00:59:42.791510Z",
     "iopub.status.busy": "2023-07-17T00:59:42.791083Z",
     "iopub.status.idle": "2023-07-17T00:59:43.053400Z",
     "shell.execute_reply": "2023-07-17T00:59:43.052164Z"
    },
    "papermill": {
     "duration": 0.279758,
     "end_time": "2023-07-17T00:59:43.056183",
     "exception": false,
     "start_time": "2023-07-17T00:59:42.776425",
     "status": "completed"
    },
    "tags": []
   },
   "outputs": [
    {
     "data": {
      "text/html": [
       "<div>\n",
       "<style scoped>\n",
       "    .dataframe tbody tr th:only-of-type {\n",
       "        vertical-align: middle;\n",
       "    }\n",
       "\n",
       "    .dataframe tbody tr th {\n",
       "        vertical-align: top;\n",
       "    }\n",
       "\n",
       "    .dataframe thead th {\n",
       "        text-align: right;\n",
       "    }\n",
       "</style>\n",
       "<table border=\"1\" class=\"dataframe\">\n",
       "  <thead>\n",
       "    <tr style=\"text-align: right;\">\n",
       "      <th></th>\n",
       "      <th>Id</th>\n",
       "      <th>AB</th>\n",
       "      <th>AF</th>\n",
       "      <th>AH</th>\n",
       "      <th>AM</th>\n",
       "      <th>AR</th>\n",
       "      <th>AX</th>\n",
       "      <th>AY</th>\n",
       "      <th>AZ</th>\n",
       "      <th>BC</th>\n",
       "      <th>...</th>\n",
       "      <th>FL</th>\n",
       "      <th>FR</th>\n",
       "      <th>FS</th>\n",
       "      <th>GB</th>\n",
       "      <th>GE</th>\n",
       "      <th>GF</th>\n",
       "      <th>GH</th>\n",
       "      <th>GI</th>\n",
       "      <th>GL</th>\n",
       "      <th>Class</th>\n",
       "    </tr>\n",
       "  </thead>\n",
       "  <tbody>\n",
       "    <tr>\n",
       "      <th>0</th>\n",
       "      <td>000ff2bfdfe9</td>\n",
       "      <td>-0.572153</td>\n",
       "      <td>-0.170975</td>\n",
       "      <td>-0.261669</td>\n",
       "      <td>-0.237889</td>\n",
       "      <td>-0.189295</td>\n",
       "      <td>-1.900558</td>\n",
       "      <td>-0.083417</td>\n",
       "      <td>-0.173502</td>\n",
       "      <td>-0.038354</td>\n",
       "      <td>...</td>\n",
       "      <td>0.162821</td>\n",
       "      <td>-0.035806</td>\n",
       "      <td>-0.250437</td>\n",
       "      <td>-0.940094</td>\n",
       "      <td>-0.410260</td>\n",
       "      <td>-0.655511</td>\n",
       "      <td>-0.948991</td>\n",
       "      <td>0.531241</td>\n",
       "      <td>-0.814049</td>\n",
       "      <td>1</td>\n",
       "    </tr>\n",
       "    <tr>\n",
       "      <th>1</th>\n",
       "      <td>007255e47698</td>\n",
       "      <td>-0.709105</td>\n",
       "      <td>-1.097801</td>\n",
       "      <td>-0.261669</td>\n",
       "      <td>-0.028701</td>\n",
       "      <td>-0.189295</td>\n",
       "      <td>-0.750457</td>\n",
       "      <td>-0.083417</td>\n",
       "      <td>0.678919</td>\n",
       "      <td>-0.104787</td>\n",
       "      <td>...</td>\n",
       "      <td>-0.457925</td>\n",
       "      <td>-0.060566</td>\n",
       "      <td>0.113640</td>\n",
       "      <td>-1.145070</td>\n",
       "      <td>-0.410260</td>\n",
       "      <td>0.687893</td>\n",
       "      <td>-0.238862</td>\n",
       "      <td>-0.509218</td>\n",
       "      <td>1.304860</td>\n",
       "      <td>0</td>\n",
       "    </tr>\n",
       "    <tr>\n",
       "      <th>2</th>\n",
       "      <td>013f2bd269f5</td>\n",
       "      <td>-0.015212</td>\n",
       "      <td>-0.377169</td>\n",
       "      <td>-0.261669</td>\n",
       "      <td>-0.094845</td>\n",
       "      <td>-0.189295</td>\n",
       "      <td>0.465662</td>\n",
       "      <td>-0.083417</td>\n",
       "      <td>0.519453</td>\n",
       "      <td>-0.104787</td>\n",
       "      <td>...</td>\n",
       "      <td>0.198663</td>\n",
       "      <td>-0.051023</td>\n",
       "      <td>0.597343</td>\n",
       "      <td>1.637944</td>\n",
       "      <td>-0.299210</td>\n",
       "      <td>-0.051850</td>\n",
       "      <td>-0.351743</td>\n",
       "      <td>-0.424754</td>\n",
       "      <td>-0.806623</td>\n",
       "      <td>0</td>\n",
       "    </tr>\n",
       "    <tr>\n",
       "      <th>3</th>\n",
       "      <td>043ac50845d5</td>\n",
       "      <td>-0.480851</td>\n",
       "      <td>0.138196</td>\n",
       "      <td>0.012347</td>\n",
       "      <td>0.547477</td>\n",
       "      <td>-0.189295</td>\n",
       "      <td>-0.729610</td>\n",
       "      <td>-0.083417</td>\n",
       "      <td>0.112088</td>\n",
       "      <td>-0.104787</td>\n",
       "      <td>...</td>\n",
       "      <td>0.060364</td>\n",
       "      <td>-0.060566</td>\n",
       "      <td>-0.104806</td>\n",
       "      <td>-0.219883</td>\n",
       "      <td>-0.342195</td>\n",
       "      <td>-0.650833</td>\n",
       "      <td>0.858232</td>\n",
       "      <td>1.101332</td>\n",
       "      <td>-0.810609</td>\n",
       "      <td>0</td>\n",
       "    </tr>\n",
       "    <tr>\n",
       "      <th>4</th>\n",
       "      <td>044fb8a146ec</td>\n",
       "      <td>-0.206946</td>\n",
       "      <td>0.100517</td>\n",
       "      <td>-0.261669</td>\n",
       "      <td>-0.356885</td>\n",
       "      <td>-0.189295</td>\n",
       "      <td>-0.628845</td>\n",
       "      <td>-0.013229</td>\n",
       "      <td>-1.649292</td>\n",
       "      <td>1.445139</td>\n",
       "      <td>...</td>\n",
       "      <td>0.237302</td>\n",
       "      <td>0.896815</td>\n",
       "      <td>-0.229632</td>\n",
       "      <td>-0.432313</td>\n",
       "      <td>0.099920</td>\n",
       "      <td>-0.318309</td>\n",
       "      <td>1.409422</td>\n",
       "      <td>-0.395228</td>\n",
       "      <td>-0.816349</td>\n",
       "      <td>1</td>\n",
       "    </tr>\n",
       "    <tr>\n",
       "      <th>...</th>\n",
       "      <td>...</td>\n",
       "      <td>...</td>\n",
       "      <td>...</td>\n",
       "      <td>...</td>\n",
       "      <td>...</td>\n",
       "      <td>...</td>\n",
       "      <td>...</td>\n",
       "      <td>...</td>\n",
       "      <td>...</td>\n",
       "      <td>...</td>\n",
       "      <td>...</td>\n",
       "      <td>...</td>\n",
       "      <td>...</td>\n",
       "      <td>...</td>\n",
       "      <td>...</td>\n",
       "      <td>...</td>\n",
       "      <td>...</td>\n",
       "      <td>...</td>\n",
       "      <td>...</td>\n",
       "      <td>...</td>\n",
       "      <td>...</td>\n",
       "    </tr>\n",
       "    <tr>\n",
       "      <th>612</th>\n",
       "      <td>fd3dafe738fd</td>\n",
       "      <td>-0.699975</td>\n",
       "      <td>-0.161828</td>\n",
       "      <td>0.040232</td>\n",
       "      <td>-0.422762</td>\n",
       "      <td>0.275215</td>\n",
       "      <td>-0.802577</td>\n",
       "      <td>0.040875</td>\n",
       "      <td>-0.464891</td>\n",
       "      <td>-0.080610</td>\n",
       "      <td>...</td>\n",
       "      <td>-0.457925</td>\n",
       "      <td>-0.045332</td>\n",
       "      <td>-0.271241</td>\n",
       "      <td>-1.177680</td>\n",
       "      <td>0.593022</td>\n",
       "      <td>-0.340465</td>\n",
       "      <td>-0.694915</td>\n",
       "      <td>0.513497</td>\n",
       "      <td>1.304860</td>\n",
       "      <td>0</td>\n",
       "    </tr>\n",
       "    <tr>\n",
       "      <th>613</th>\n",
       "      <td>fd895603f071</td>\n",
       "      <td>-0.088253</td>\n",
       "      <td>0.852755</td>\n",
       "      <td>-0.261669</td>\n",
       "      <td>0.108831</td>\n",
       "      <td>0.556117</td>\n",
       "      <td>0.170319</td>\n",
       "      <td>-0.082686</td>\n",
       "      <td>0.473063</td>\n",
       "      <td>-0.065661</td>\n",
       "      <td>...</td>\n",
       "      <td>0.417655</td>\n",
       "      <td>-0.045702</td>\n",
       "      <td>0.004417</td>\n",
       "      <td>1.519617</td>\n",
       "      <td>2.535523</td>\n",
       "      <td>-0.599582</td>\n",
       "      <td>-0.186764</td>\n",
       "      <td>2.048314</td>\n",
       "      <td>-0.811625</td>\n",
       "      <td>0</td>\n",
       "    </tr>\n",
       "    <tr>\n",
       "      <th>614</th>\n",
       "      <td>fd8ef6377f76</td>\n",
       "      <td>-0.106514</td>\n",
       "      <td>-0.453742</td>\n",
       "      <td>0.090140</td>\n",
       "      <td>0.235206</td>\n",
       "      <td>-0.011673</td>\n",
       "      <td>0.990330</td>\n",
       "      <td>-0.083417</td>\n",
       "      <td>1.113828</td>\n",
       "      <td>-0.104787</td>\n",
       "      <td>...</td>\n",
       "      <td>-0.457925</td>\n",
       "      <td>-0.060566</td>\n",
       "      <td>-0.271241</td>\n",
       "      <td>-0.076400</td>\n",
       "      <td>-0.019561</td>\n",
       "      <td>-0.424307</td>\n",
       "      <td>-0.540129</td>\n",
       "      <td>1.903449</td>\n",
       "      <td>1.304860</td>\n",
       "      <td>0</td>\n",
       "    </tr>\n",
       "    <tr>\n",
       "      <th>615</th>\n",
       "      <td>fe1942975e40</td>\n",
       "      <td>-0.243466</td>\n",
       "      <td>-0.973904</td>\n",
       "      <td>-0.261669</td>\n",
       "      <td>-0.219353</td>\n",
       "      <td>-0.189295</td>\n",
       "      <td>0.955584</td>\n",
       "      <td>-0.083417</td>\n",
       "      <td>-0.699741</td>\n",
       "      <td>-0.104787</td>\n",
       "      <td>...</td>\n",
       "      <td>0.333481</td>\n",
       "      <td>-0.054771</td>\n",
       "      <td>0.191657</td>\n",
       "      <td>0.387591</td>\n",
       "      <td>-0.410260</td>\n",
       "      <td>-0.657500</td>\n",
       "      <td>-0.646592</td>\n",
       "      <td>-0.370599</td>\n",
       "      <td>-0.807817</td>\n",
       "      <td>0</td>\n",
       "    </tr>\n",
       "    <tr>\n",
       "      <th>616</th>\n",
       "      <td>ffcca4ded3bb</td>\n",
       "      <td>0.012178</td>\n",
       "      <td>-0.360885</td>\n",
       "      <td>3.350987</td>\n",
       "      <td>1.048310</td>\n",
       "      <td>-0.189295</td>\n",
       "      <td>-0.920714</td>\n",
       "      <td>0.135921</td>\n",
       "      <td>-1.649292</td>\n",
       "      <td>-0.001602</td>\n",
       "      <td>...</td>\n",
       "      <td>-0.457925</td>\n",
       "      <td>-0.047645</td>\n",
       "      <td>-0.208828</td>\n",
       "      <td>-0.706235</td>\n",
       "      <td>-0.410260</td>\n",
       "      <td>-0.404872</td>\n",
       "      <td>1.446419</td>\n",
       "      <td>1.773276</td>\n",
       "      <td>1.304860</td>\n",
       "      <td>0</td>\n",
       "    </tr>\n",
       "  </tbody>\n",
       "</table>\n",
       "<p>617 rows × 58 columns</p>\n",
       "</div>"
      ],
      "text/plain": [
       "               Id        AB        AF        AH        AM        AR        AX  \\\n",
       "0    000ff2bfdfe9 -0.572153 -0.170975 -0.261669 -0.237889 -0.189295 -1.900558   \n",
       "1    007255e47698 -0.709105 -1.097801 -0.261669 -0.028701 -0.189295 -0.750457   \n",
       "2    013f2bd269f5 -0.015212 -0.377169 -0.261669 -0.094845 -0.189295  0.465662   \n",
       "3    043ac50845d5 -0.480851  0.138196  0.012347  0.547477 -0.189295 -0.729610   \n",
       "4    044fb8a146ec -0.206946  0.100517 -0.261669 -0.356885 -0.189295 -0.628845   \n",
       "..            ...       ...       ...       ...       ...       ...       ...   \n",
       "612  fd3dafe738fd -0.699975 -0.161828  0.040232 -0.422762  0.275215 -0.802577   \n",
       "613  fd895603f071 -0.088253  0.852755 -0.261669  0.108831  0.556117  0.170319   \n",
       "614  fd8ef6377f76 -0.106514 -0.453742  0.090140  0.235206 -0.011673  0.990330   \n",
       "615  fe1942975e40 -0.243466 -0.973904 -0.261669 -0.219353 -0.189295  0.955584   \n",
       "616  ffcca4ded3bb  0.012178 -0.360885  3.350987  1.048310 -0.189295 -0.920714   \n",
       "\n",
       "           AY        AZ        BC  ...        FL        FR        FS  \\\n",
       "0   -0.083417 -0.173502 -0.038354  ...  0.162821 -0.035806 -0.250437   \n",
       "1   -0.083417  0.678919 -0.104787  ... -0.457925 -0.060566  0.113640   \n",
       "2   -0.083417  0.519453 -0.104787  ...  0.198663 -0.051023  0.597343   \n",
       "3   -0.083417  0.112088 -0.104787  ...  0.060364 -0.060566 -0.104806   \n",
       "4   -0.013229 -1.649292  1.445139  ...  0.237302  0.896815 -0.229632   \n",
       "..        ...       ...       ...  ...       ...       ...       ...   \n",
       "612  0.040875 -0.464891 -0.080610  ... -0.457925 -0.045332 -0.271241   \n",
       "613 -0.082686  0.473063 -0.065661  ...  0.417655 -0.045702  0.004417   \n",
       "614 -0.083417  1.113828 -0.104787  ... -0.457925 -0.060566 -0.271241   \n",
       "615 -0.083417 -0.699741 -0.104787  ...  0.333481 -0.054771  0.191657   \n",
       "616  0.135921 -1.649292 -0.001602  ... -0.457925 -0.047645 -0.208828   \n",
       "\n",
       "           GB        GE        GF        GH        GI        GL  Class  \n",
       "0   -0.940094 -0.410260 -0.655511 -0.948991  0.531241 -0.814049      1  \n",
       "1   -1.145070 -0.410260  0.687893 -0.238862 -0.509218  1.304860      0  \n",
       "2    1.637944 -0.299210 -0.051850 -0.351743 -0.424754 -0.806623      0  \n",
       "3   -0.219883 -0.342195 -0.650833  0.858232  1.101332 -0.810609      0  \n",
       "4   -0.432313  0.099920 -0.318309  1.409422 -0.395228 -0.816349      1  \n",
       "..        ...       ...       ...       ...       ...       ...    ...  \n",
       "612 -1.177680  0.593022 -0.340465 -0.694915  0.513497  1.304860      0  \n",
       "613  1.519617  2.535523 -0.599582 -0.186764  2.048314 -0.811625      0  \n",
       "614 -0.076400 -0.019561 -0.424307 -0.540129  1.903449  1.304860      0  \n",
       "615  0.387591 -0.410260 -0.657500 -0.646592 -0.370599 -0.807817      0  \n",
       "616 -0.706235 -0.410260 -0.404872  1.446419  1.773276  1.304860      0  \n",
       "\n",
       "[617 rows x 58 columns]"
      ]
     },
     "execution_count": 8,
     "metadata": {},
     "output_type": "execute_result"
    }
   ],
   "source": [
    "scaler = StandardScaler()\n",
    "df, test_df = train.copy(), test.copy()\n",
    "new_num_cols = train.select_dtypes(include=['float64']).columns\n",
    "df[new_num_cols] = scaler.fit_transform(train[new_num_cols])\n",
    "test_df[new_num_cols] = scaler.transform(test[new_num_cols])\n",
    "df"
   ]
  },
  {
   "cell_type": "markdown",
   "id": "72f442da",
   "metadata": {
    "papermill": {
     "duration": 0.01253,
     "end_time": "2023-07-17T00:59:43.081528",
     "exception": false,
     "start_time": "2023-07-17T00:59:43.068998",
     "status": "completed"
    },
    "tags": []
   },
   "source": [
    "## K-Means"
   ]
  },
  {
   "cell_type": "code",
   "execution_count": 9,
   "id": "be296560",
   "metadata": {
    "execution": {
     "iopub.execute_input": "2023-07-17T00:59:43.109069Z",
     "iopub.status.busy": "2023-07-17T00:59:43.108583Z",
     "iopub.status.idle": "2023-07-17T00:59:43.116456Z",
     "shell.execute_reply": "2023-07-17T00:59:43.115126Z"
    },
    "papermill": {
     "duration": 0.024469,
     "end_time": "2023-07-17T00:59:43.118754",
     "exception": false,
     "start_time": "2023-07-17T00:59:43.094285",
     "status": "completed"
    },
    "tags": []
   },
   "outputs": [],
   "source": [
    "# エルボー法によるK-meansの可視化関数の定義\n",
    "def plot_kmeans(input_data, num_cluster):\n",
    "    dist_list =[]\n",
    "    for i in range(1,num_cluster):\n",
    "        kmeans= KMeans(n_clusters=i, init='random', random_state=0)\n",
    "        kmeans.fit(input_data)\n",
    "        dist_list.append(kmeans.inertia_)\n",
    "    \n",
    "    # グラフを表示\n",
    "    plt.plot(range(1,num_cluster), dist_list,marker='+')\n",
    "    plt.xlabel('Number of clusters')\n",
    "    plt.ylabel('Distortion')"
   ]
  },
  {
   "cell_type": "code",
   "execution_count": 10,
   "id": "e5c32d60",
   "metadata": {
    "execution": {
     "iopub.execute_input": "2023-07-17T00:59:43.146607Z",
     "iopub.status.busy": "2023-07-17T00:59:43.146202Z",
     "iopub.status.idle": "2023-07-17T00:59:43.150539Z",
     "shell.execute_reply": "2023-07-17T00:59:43.149583Z"
    },
    "papermill": {
     "duration": 0.021211,
     "end_time": "2023-07-17T00:59:43.152861",
     "exception": false,
     "start_time": "2023-07-17T00:59:43.131650",
     "status": "completed"
    },
    "tags": []
   },
   "outputs": [],
   "source": [
    "# K-Meansの可視化の上限設定\n",
    "NUM_CLUSTER = 50"
   ]
  },
  {
   "cell_type": "code",
   "execution_count": 11,
   "id": "c29e8e8b",
   "metadata": {
    "execution": {
     "iopub.execute_input": "2023-07-17T00:59:43.181441Z",
     "iopub.status.busy": "2023-07-17T00:59:43.180961Z",
     "iopub.status.idle": "2023-07-17T00:59:48.153296Z",
     "shell.execute_reply": "2023-07-17T00:59:48.151641Z"
    },
    "papermill": {
     "duration": 4.991001,
     "end_time": "2023-07-17T00:59:48.156674",
     "exception": false,
     "start_time": "2023-07-17T00:59:43.165673",
     "status": "completed"
    },
    "tags": []
   },
   "outputs": [
    {
     "data": {
      "image/png": "[encoded data removed]",
      "text/plain": [
       "<Figure size 640x480 with 1 Axes>"
      ]
     },
     "metadata": {},
     "output_type": "display_data"
    }
   ],
   "source": [
    "# エルボー法によるK-Meansの実施\n",
    "plot_kmeans(df.drop([\"Id\", \"EJ\", \"Class\"], axis=1), NUM_CLUSTER)"
   ]
  },
  {
   "cell_type": "code",
   "execution_count": 12,
   "id": "c50deefc",
   "metadata": {
    "execution": {
     "iopub.execute_input": "2023-07-17T00:59:48.189029Z",
     "iopub.status.busy": "2023-07-17T00:59:48.188487Z",
     "iopub.status.idle": "2023-07-17T00:59:48.259638Z",
     "shell.execute_reply": "2023-07-17T00:59:48.258342Z"
    },
    "papermill": {
     "duration": 0.090917,
     "end_time": "2023-07-17T00:59:48.262863",
     "exception": false,
     "start_time": "2023-07-17T00:59:48.171946",
     "status": "completed"
    },
    "tags": []
   },
   "outputs": [],
   "source": [
    "# クラスを含めない状態でクラスター数7でラベリング\n",
    "num_cluster = 5\n",
    "\n",
    "# kmeansクラスをインスタンス化\n",
    "kmeans = KMeans(init='random', n_clusters=num_cluster, random_state=0)\n",
    "\n",
    "# train dataでトレーニング\n",
    "kmeans.fit(df.drop([\"Id\", \"EJ\", \"Class\"], axis=1))\n",
    "\n",
    "# predict\n",
    "km_label_train =pd.Series(kmeans.labels_, name='cluster_number_{}'.format(num_cluster))\n",
    "km_label_test =pd.Series(kmeans.predict(test_df.drop([\"Id\", \"EJ\"], axis=1)), name='cluster_number_{}'.format(num_cluster))"
   ]
  },
  {
   "cell_type": "code",
   "execution_count": 13,
   "id": "5edf125a",
   "metadata": {
    "execution": {
     "iopub.execute_input": "2023-07-17T00:59:48.293109Z",
     "iopub.status.busy": "2023-07-17T00:59:48.292572Z",
     "iopub.status.idle": "2023-07-17T00:59:48.302870Z",
     "shell.execute_reply": "2023-07-17T00:59:48.301217Z"
    },
    "papermill": {
     "duration": 0.029765,
     "end_time": "2023-07-17T00:59:48.306052",
     "exception": false,
     "start_time": "2023-07-17T00:59:48.276287",
     "status": "completed"
    },
    "tags": []
   },
   "outputs": [],
   "source": [
    "# 本番データに結合\n",
    "df[\"cluster_label\"] = km_label_train\n",
    "test_df[\"cluster_label\"] = km_label_test"
   ]
  },
  {
   "cell_type": "code",
   "execution_count": 14,
   "id": "ea82a711",
   "metadata": {
    "execution": {
     "iopub.execute_input": "2023-07-17T00:59:48.336786Z",
     "iopub.status.busy": "2023-07-17T00:59:48.336114Z",
     "iopub.status.idle": "2023-07-17T00:59:48.349138Z",
     "shell.execute_reply": "2023-07-17T00:59:48.347352Z"
    },
    "papermill": {
     "duration": 0.03236,
     "end_time": "2023-07-17T00:59:48.352233",
     "exception": false,
     "start_time": "2023-07-17T00:59:48.319873",
     "status": "completed"
    },
    "tags": []
   },
   "outputs": [
    {
     "data": {
      "text/plain": [
       "cluster_label\n",
       "0     0\n",
       "1    30\n",
       "2    18\n",
       "3    11\n",
       "4    49\n",
       "Name: Class, dtype: int64"
      ]
     },
     "execution_count": 14,
     "metadata": {},
     "output_type": "execute_result"
    }
   ],
   "source": [
    "df.groupby([\"cluster_label\"])[\"Class\"].sum()"
   ]
  },
  {
   "cell_type": "markdown",
   "id": "77e356e8",
   "metadata": {
    "papermill": {
     "duration": 0.013847,
     "end_time": "2023-07-17T00:59:48.379775",
     "exception": false,
     "start_time": "2023-07-17T00:59:48.365928",
     "status": "completed"
    },
    "tags": []
   },
   "source": [
    "## aggrigationの実装"
   ]
  },
  {
   "cell_type": "code",
   "execution_count": 15,
   "id": "2c550acf",
   "metadata": {
    "execution": {
     "iopub.execute_input": "2023-07-17T00:59:48.409524Z",
     "iopub.status.busy": "2023-07-17T00:59:48.409068Z",
     "iopub.status.idle": "2023-07-17T00:59:48.418043Z",
     "shell.execute_reply": "2023-07-17T00:59:48.416576Z"
    },
    "papermill": {
     "duration": 0.027129,
     "end_time": "2023-07-17T00:59:48.420714",
     "exception": false,
     "start_time": "2023-07-17T00:59:48.393585",
     "status": "completed"
    },
    "tags": []
   },
   "outputs": [
    {
     "data": {
      "text/plain": [
       "0    4\n",
       "1    4\n",
       "2    4\n",
       "3    4\n",
       "4    4\n",
       "Name: cluster_label, dtype: int32"
      ]
     },
     "execution_count": 15,
     "metadata": {},
     "output_type": "execute_result"
    }
   ],
   "source": [
    "test_df[\"cluster_label\"]"
   ]
  },
  {
   "cell_type": "code",
   "execution_count": 16,
   "id": "4af5a4fa",
   "metadata": {
    "execution": {
     "iopub.execute_input": "2023-07-17T00:59:48.450657Z",
     "iopub.status.busy": "2023-07-17T00:59:48.450191Z",
     "iopub.status.idle": "2023-07-17T00:59:48.565218Z",
     "shell.execute_reply": "2023-07-17T00:59:48.563726Z"
    },
    "papermill": {
     "duration": 0.133868,
     "end_time": "2023-07-17T00:59:48.568290",
     "exception": false,
     "start_time": "2023-07-17T00:59:48.434422",
     "status": "completed"
    },
    "tags": []
   },
   "outputs": [],
   "source": [
    "agg_cols = ['min', 'max', 'mean', 'std']\n",
    "cat_cols = [\"cluster_label\"]\n",
    "\n",
    "for col in cat_cols:\n",
    "    grp_df = df.groupby(col)[num_cols].agg(agg_cols)\n",
    "    grp_df.columns = [f'{col}_' + '_'.join(c) for c in grp_df.columns]\n",
    "    df = df.merge(grp_df, on=col, how='left')\n",
    "    test_df = test_df.merge(grp_df, on=col, how='left')"
   ]
  },
  {
   "cell_type": "markdown",
   "id": "02148a60",
   "metadata": {
    "papermill": {
     "duration": 0.013969,
     "end_time": "2023-07-17T00:59:48.596803",
     "exception": false,
     "start_time": "2023-07-17T00:59:48.582834",
     "status": "completed"
    },
    "tags": []
   },
   "source": [
    "## 特徴選択"
   ]
  },
  {
   "cell_type": "code",
   "execution_count": 17,
   "id": "3c71f1d2",
   "metadata": {
    "execution": {
     "iopub.execute_input": "2023-07-17T00:59:48.627520Z",
     "iopub.status.busy": "2023-07-17T00:59:48.627071Z",
     "iopub.status.idle": "2023-07-17T00:59:50.203787Z",
     "shell.execute_reply": "2023-07-17T00:59:50.202780Z"
    },
    "papermill": {
     "duration": 1.595668,
     "end_time": "2023-07-17T00:59:50.206585",
     "exception": false,
     "start_time": "2023-07-17T00:59:48.610917",
     "status": "completed"
    },
    "tags": []
   },
   "outputs": [
    {
     "name": "stdout",
     "output_type": "stream",
     "text": [
      "279\n",
      "220\n",
      "59\n"
     ]
    }
   ],
   "source": [
    "# thresholdを超える相関を持つカラムの削除\n",
    "threshold = 0.8\n",
    "print(len(df.columns))\n",
    "\n",
    "feat_corr = set()\n",
    "corr_matrix = df.corr()\n",
    "for i in range(len(corr_matrix.columns)):\n",
    "    for j in range(i):\n",
    "        if abs(corr_matrix.iloc[i, j]) > threshold:\n",
    "            feat_name = corr_matrix.columns[i]\n",
    "            feat_corr.add(feat_name)\n",
    "\n",
    "print(len(set(feat_corr)))\n",
    "\n",
    "df.drop(labels=feat_corr, axis='columns', inplace=True)\n",
    "test_df.drop(labels=feat_corr, axis='columns', inplace=True)\n",
    "\n",
    "print(len(df.columns))"
   ]
  },
  {
   "cell_type": "markdown",
   "id": "e36d08c8",
   "metadata": {
    "papermill": {
     "duration": 0.013487,
     "end_time": "2023-07-17T00:59:50.233927",
     "exception": false,
     "start_time": "2023-07-17T00:59:50.220440",
     "status": "completed"
    },
    "tags": []
   },
   "source": [
    "### CV"
   ]
  },
  {
   "cell_type": "code",
   "execution_count": 18,
   "id": "4266fa9c",
   "metadata": {
    "execution": {
     "iopub.execute_input": "2023-07-17T00:59:50.265535Z",
     "iopub.status.busy": "2023-07-17T00:59:50.263799Z",
     "iopub.status.idle": "2023-07-17T00:59:50.286739Z",
     "shell.execute_reply": "2023-07-17T00:59:50.285223Z"
    },
    "papermill": {
     "duration": 0.041748,
     "end_time": "2023-07-17T00:59:50.289787",
     "exception": false,
     "start_time": "2023-07-17T00:59:50.248039",
     "status": "completed"
    },
    "tags": []
   },
   "outputs": [
    {
     "data": {
      "text/plain": [
       "fold  Class\n",
       "0     0        101\n",
       "      1         23\n",
       "1     0        102\n",
       "      1         22\n",
       "2     0        102\n",
       "      1         21\n",
       "3     0        102\n",
       "      1         21\n",
       "4     0        102\n",
       "      1         21\n",
       "Name: Class, dtype: int64"
      ]
     },
     "execution_count": 18,
     "metadata": {},
     "output_type": "execute_result"
    }
   ],
   "source": [
    "kf = StratifiedKFold(n_splits=5, random_state=42, shuffle=True)\n",
    "df['fold'] = -1\n",
    "\n",
    "for fold, (train_idx, test_idx) in enumerate(kf.split(df, greeks['Alpha'])):\n",
    "    df.loc[test_idx, 'fold'] = fold\n",
    "\n",
    "df.groupby('fold')[\"Class\"].value_counts()"
   ]
  },
  {
   "cell_type": "markdown",
   "id": "86d0a572",
   "metadata": {
    "papermill": {
     "duration": 0.013707,
     "end_time": "2023-07-17T00:59:50.317515",
     "exception": false,
     "start_time": "2023-07-17T00:59:50.303808",
     "status": "completed"
    },
    "tags": []
   },
   "source": [
    "### Training"
   ]
  },
  {
   "cell_type": "code",
   "execution_count": 19,
   "id": "13f4ac6d",
   "metadata": {
    "execution": {
     "iopub.execute_input": "2023-07-17T00:59:50.348441Z",
     "iopub.status.busy": "2023-07-17T00:59:50.347562Z",
     "iopub.status.idle": "2023-07-17T00:59:59.650437Z",
     "shell.execute_reply": "2023-07-17T00:59:59.649031Z"
    },
    "papermill": {
     "duration": 9.322111,
     "end_time": "2023-07-17T00:59:59.653523",
     "exception": false,
     "start_time": "2023-07-17T00:59:50.331412",
     "status": "completed"
    },
    "tags": []
   },
   "outputs": [
    {
     "name": "stdout",
     "output_type": "stream",
     "text": [
      "Fold: 0, log loss: 0.221, balanced los loss: 0.158\n",
      "Fold: 1, log loss: 0.258, balanced los loss: 0.164\n",
      "[1000]\tvalid_0's balanced_log_loss: 0.0332561\n",
      "Fold: 2, log loss: 0.06, balanced los loss: 0.032\n",
      "Fold: 3, log loss: 0.21, balanced los loss: 0.107\n",
      "Fold: 4, log loss: 0.244, balanced los loss: 0.151\n",
      "\n",
      "Log Loss\n",
      "[0.22125153439506276, 0.2581022695793122, 0.059865788112788025, 0.21022557773675896, 0.2436320227117622]\n",
      "0.19861543850713684 0.07136361759187136\n",
      "\n",
      "Balanced Log Loss\n",
      "[0.15837058963354286, 0.16369856598557395, 0.032106122452403844, 0.10720049908928571, 0.1508648563882301]\n",
      "0.12244812670980729 0.049383601508732056\n",
      "\n",
      "Weights\n",
      "[6.314303699404805, 6.1087890048354225, 31.14670734475842, 9.32831477927276, 6.628448957168902]\n"
     ]
    }
   ],
   "source": [
    "final_valid_predictions = {}\n",
    "final_test_predictions = []\n",
    "scores = []\n",
    "log_losses = []\n",
    "balanced_log_losses = []\n",
    "weights = []\n",
    "importance = None\n",
    "\n",
    "for fold in range(5):\n",
    "    train_df = df[df['fold'] != fold]\n",
    "    valid_df = df[df['fold'] == fold]\n",
    "    valid_ids = valid_df.Id.values.tolist()\n",
    "\n",
    "    X_train, y_train = train_df.drop(['Id', 'Class', 'fold'], axis=1), train_df['Class']\n",
    "    X_valid, y_valid = valid_df.drop(['Id', 'Class', 'fold'], axis=1), valid_df['Class']\n",
    "    \n",
    "    lgb = LGBMClassifier(boosting_type='goss', learning_rate=0.06733232950390658, n_estimators = 50000, \n",
    "                         early_stopping_round = 300, random_state=42,\n",
    "                        subsample=0.6970532011679706,\n",
    "                        colsample_bytree=0.6055755840633003,\n",
    "                         class_weight='balanced',\n",
    "                         metric='none', is_unbalance=True, max_depth=8)\n",
    "    \n",
    "    lgb.fit(X_train, y_train, eval_set=(X_valid, y_valid), verbose=1000,\n",
    "            eval_metric=lgb_metric)\n",
    "    \n",
    "    y_pred = lgb.predict_proba(X_valid)\n",
    "    preds_test  = lgb.predict_proba(test_df.drop(['Id'], axis=1).values)\n",
    "    \n",
    "    final_test_predictions.append(preds_test)\n",
    "    final_valid_predictions.update(dict(zip(valid_ids, y_pred)))\n",
    "\n",
    "    logloss = log_loss(y_valid, y_pred)\n",
    "    balanced_logloss = balanced_log_loss(y_valid, y_pred[:, 1])\n",
    "    log_losses.append(logloss)\n",
    "    balanced_log_losses.append(balanced_logloss)\n",
    "    weights.append(1/balanced_logloss)\n",
    "    \n",
    "    # feature importanceの算出\n",
    "    if importance is None:\n",
    "        importance = pd.DataFrame(lgb.feature_importances_, index=X_train.columns, columns=['fold{}_importance'.format(fold)])\n",
    "    else:\n",
    "        importance['fold{}_importance'.format(fold)] = lgb.feature_importances_\n",
    "\n",
    "    \n",
    "    print(f\"Fold: {fold}, log loss: {round(logloss, 3)}, balanced los loss: {round(balanced_logloss, 3)}\")\n",
    "\n",
    "print()\n",
    "print(\"Log Loss\")\n",
    "print(log_losses)\n",
    "print(np.mean(log_losses), np.std(log_losses))\n",
    "print()\n",
    "print(\"Balanced Log Loss\")\n",
    "print(balanced_log_losses)\n",
    "print(np.mean(balanced_log_losses), np.std(balanced_log_losses))\n",
    "print()\n",
    "print(\"Weights\")\n",
    "print(weights)"
   ]
  },
  {
   "cell_type": "markdown",
   "id": "d2a51862",
   "metadata": {
    "papermill": {
     "duration": 0.015821,
     "end_time": "2023-07-17T00:59:59.683908",
     "exception": false,
     "start_time": "2023-07-17T00:59:59.668087",
     "status": "completed"
    },
    "tags": []
   },
   "source": [
    "## 特徴選択"
   ]
  },
  {
   "cell_type": "code",
   "execution_count": 20,
   "id": "e1b54b0a",
   "metadata": {
    "execution": {
     "iopub.execute_input": "2023-07-17T00:59:59.717626Z",
     "iopub.status.busy": "2023-07-17T00:59:59.717106Z",
     "iopub.status.idle": "2023-07-17T00:59:59.729370Z",
     "shell.execute_reply": "2023-07-17T00:59:59.727830Z"
    },
    "papermill": {
     "duration": 0.031594,
     "end_time": "2023-07-17T00:59:59.732167",
     "exception": false,
     "start_time": "2023-07-17T00:59:59.700573",
     "status": "completed"
    },
    "tags": []
   },
   "outputs": [],
   "source": [
    "fold_num = 5\n",
    "for i in range(fold_num):\n",
    "    if i == 0:\n",
    "        importance[\"sum_imp\"] = importance[\"fold{}_importance\".format(i)]\n",
    "    else:\n",
    "        importance[\"sum_imp\"] += importance[\"fold{}_importance\".format(i)]"
   ]
  },
  {
   "cell_type": "code",
   "execution_count": 21,
   "id": "9c6c66f7",
   "metadata": {
    "execution": {
     "iopub.execute_input": "2023-07-17T00:59:59.764239Z",
     "iopub.status.busy": "2023-07-17T00:59:59.763749Z",
     "iopub.status.idle": "2023-07-17T00:59:59.770222Z",
     "shell.execute_reply": "2023-07-17T00:59:59.768674Z"
    },
    "papermill": {
     "duration": 0.025889,
     "end_time": "2023-07-17T00:59:59.773205",
     "exception": false,
     "start_time": "2023-07-17T00:59:59.747316",
     "status": "completed"
    },
    "tags": []
   },
   "outputs": [],
   "source": [
    "# 上位X個のカラムを使用\n",
    "use_col_rank = 30"
   ]
  },
  {
   "cell_type": "code",
   "execution_count": 22,
   "id": "d87ec36b",
   "metadata": {
    "execution": {
     "iopub.execute_input": "2023-07-17T00:59:59.804769Z",
     "iopub.status.busy": "2023-07-17T00:59:59.804272Z",
     "iopub.status.idle": "2023-07-17T00:59:59.822064Z",
     "shell.execute_reply": "2023-07-17T00:59:59.820638Z"
    },
    "papermill": {
     "duration": 0.036676,
     "end_time": "2023-07-17T00:59:59.824724",
     "exception": false,
     "start_time": "2023-07-17T00:59:59.788048",
     "status": "completed"
    },
    "tags": []
   },
   "outputs": [
    {
     "data": {
      "text/html": [
       "<div>\n",
       "<style scoped>\n",
       "    .dataframe tbody tr th:only-of-type {\n",
       "        vertical-align: middle;\n",
       "    }\n",
       "\n",
       "    .dataframe tbody tr th {\n",
       "        vertical-align: top;\n",
       "    }\n",
       "\n",
       "    .dataframe thead th {\n",
       "        text-align: right;\n",
       "    }\n",
       "</style>\n",
       "<table border=\"1\" class=\"dataframe\">\n",
       "  <thead>\n",
       "    <tr style=\"text-align: right;\">\n",
       "      <th></th>\n",
       "      <th>fold0_importance</th>\n",
       "      <th>fold1_importance</th>\n",
       "      <th>fold2_importance</th>\n",
       "      <th>fold3_importance</th>\n",
       "      <th>fold4_importance</th>\n",
       "      <th>sum_imp</th>\n",
       "    </tr>\n",
       "  </thead>\n",
       "  <tbody>\n",
       "    <tr>\n",
       "      <th>DU</th>\n",
       "      <td>48</td>\n",
       "      <td>42</td>\n",
       "      <td>339</td>\n",
       "      <td>58</td>\n",
       "      <td>80</td>\n",
       "      <td>567</td>\n",
       "    </tr>\n",
       "    <tr>\n",
       "      <th>BQ</th>\n",
       "      <td>42</td>\n",
       "      <td>42</td>\n",
       "      <td>207</td>\n",
       "      <td>44</td>\n",
       "      <td>65</td>\n",
       "      <td>400</td>\n",
       "    </tr>\n",
       "    <tr>\n",
       "      <th>FL</th>\n",
       "      <td>54</td>\n",
       "      <td>37</td>\n",
       "      <td>183</td>\n",
       "      <td>56</td>\n",
       "      <td>37</td>\n",
       "      <td>367</td>\n",
       "    </tr>\n",
       "    <tr>\n",
       "      <th>AB</th>\n",
       "      <td>36</td>\n",
       "      <td>39</td>\n",
       "      <td>184</td>\n",
       "      <td>43</td>\n",
       "      <td>52</td>\n",
       "      <td>354</td>\n",
       "    </tr>\n",
       "    <tr>\n",
       "      <th>CR</th>\n",
       "      <td>38</td>\n",
       "      <td>36</td>\n",
       "      <td>134</td>\n",
       "      <td>44</td>\n",
       "      <td>48</td>\n",
       "      <td>300</td>\n",
       "    </tr>\n",
       "  </tbody>\n",
       "</table>\n",
       "</div>"
      ],
      "text/plain": [
       "    fold0_importance  fold1_importance  fold2_importance  fold3_importance  \\\n",
       "DU                48                42               339                58   \n",
       "BQ                42                42               207                44   \n",
       "FL                54                37               183                56   \n",
       "AB                36                39               184                43   \n",
       "CR                38                36               134                44   \n",
       "\n",
       "    fold4_importance  sum_imp  \n",
       "DU                80      567  \n",
       "BQ                65      400  \n",
       "FL                37      367  \n",
       "AB                52      354  \n",
       "CR                48      300  "
      ]
     },
     "execution_count": 22,
     "metadata": {},
     "output_type": "execute_result"
    }
   ],
   "source": [
    "importance.sort_values('sum_imp', ascending=False, inplace=True)\n",
    "importance.head()"
   ]
  },
  {
   "cell_type": "code",
   "execution_count": 23,
   "id": "f0d26838",
   "metadata": {
    "execution": {
     "iopub.execute_input": "2023-07-17T00:59:59.856519Z",
     "iopub.status.busy": "2023-07-17T00:59:59.856023Z",
     "iopub.status.idle": "2023-07-17T00:59:59.865269Z",
     "shell.execute_reply": "2023-07-17T00:59:59.863727Z"
    },
    "papermill": {
     "duration": 0.028289,
     "end_time": "2023-07-17T00:59:59.867729",
     "exception": false,
     "start_time": "2023-07-17T00:59:59.839440",
     "status": "completed"
    },
    "tags": []
   },
   "outputs": [
    {
     "data": {
      "text/plain": [
       "30"
      ]
     },
     "execution_count": 23,
     "metadata": {},
     "output_type": "execute_result"
    }
   ],
   "source": [
    "len(importance.iloc[:use_col_rank])"
   ]
  },
  {
   "cell_type": "code",
   "execution_count": 24,
   "id": "d34410a8",
   "metadata": {
    "execution": {
     "iopub.execute_input": "2023-07-17T00:59:59.905933Z",
     "iopub.status.busy": "2023-07-17T00:59:59.905445Z",
     "iopub.status.idle": "2023-07-17T00:59:59.917089Z",
     "shell.execute_reply": "2023-07-17T00:59:59.915066Z"
    },
    "papermill": {
     "duration": 0.034353,
     "end_time": "2023-07-17T00:59:59.920616",
     "exception": false,
     "start_time": "2023-07-17T00:59:59.886263",
     "status": "completed"
    },
    "tags": []
   },
   "outputs": [],
   "source": [
    "selected_cols = importance.iloc[:use_col_rank].index.tolist()"
   ]
  },
  {
   "cell_type": "code",
   "execution_count": 25,
   "id": "a7b99fc1",
   "metadata": {
    "execution": {
     "iopub.execute_input": "2023-07-17T00:59:59.957627Z",
     "iopub.status.busy": "2023-07-17T00:59:59.956959Z",
     "iopub.status.idle": "2023-07-17T01:00:06.978286Z",
     "shell.execute_reply": "2023-07-17T01:00:06.976159Z"
    },
    "papermill": {
     "duration": 7.041927,
     "end_time": "2023-07-17T01:00:06.981186",
     "exception": false,
     "start_time": "2023-07-17T00:59:59.939259",
     "status": "completed"
    },
    "tags": []
   },
   "outputs": [
    {
     "name": "stdout",
     "output_type": "stream",
     "text": [
      "Fold: 0, log loss: 0.26, balanced los loss: 0.16\n",
      "Fold: 1, log loss: 0.182, balanced los loss: 0.127\n",
      "Fold: 2, log loss: 0.037, balanced los loss: 0.023\n",
      "Fold: 3, log loss: 0.175, balanced los loss: 0.082\n",
      "Fold: 4, log loss: 0.189, balanced los loss: 0.122\n",
      "\n",
      "Log Loss\n",
      "[0.2596507350735668, 0.1817958581599444, 0.036953423497550535, 0.17510843577776983, 0.1894810434306606]\n",
      "0.16859789918789844 0.07248940036141688\n",
      "\n",
      "Balanced Log Loss\n",
      "[0.1597979109765036, 0.12702277741049614, 0.022513780977008332, 0.08167574718713433, 0.12197629754364979]\n",
      "0.10259730281895843 0.04710656170815293\n",
      "\n",
      "Weights\n",
      "[6.257904085786443, 7.872603798988952, 44.41723942420984, 12.243536599779295, 8.198314099853254]\n"
     ]
    }
   ],
   "source": [
    "final_valid_predictions = {}\n",
    "final_test_predictions = []\n",
    "scores = []\n",
    "log_losses = []\n",
    "balanced_log_losses = []\n",
    "weights = []\n",
    "importance = None\n",
    "\n",
    "selected_df = df[selected_cols]\n",
    "selected_df[\"fold\"] = df[\"fold\"]\n",
    "selected_df[\"Class\"] = df[\"Class\"]\n",
    "selected_df[\"Id\"] = df[\"Id\"]\n",
    "selected_test_df = test_df[selected_cols]\n",
    "selected_test_df[\"Id\"] = test_df[\"Id\"]\n",
    "\n",
    "for fold in range(5):\n",
    "    train_df = selected_df[df['fold'] != fold]\n",
    "    valid_df = selected_df[df['fold'] == fold]\n",
    "    valid_ids = valid_df.Id.values.tolist()\n",
    "\n",
    "    X_train, y_train = train_df.drop(['Id', 'Class', 'fold'], axis=1), train_df['Class']\n",
    "    X_valid, y_valid = valid_df.drop(['Id', 'Class', 'fold'], axis=1), valid_df['Class']\n",
    "    \n",
    "    lgb = LGBMClassifier(boosting_type='goss', learning_rate=0.06733232950390658, n_estimators = 50000, \n",
    "                         early_stopping_round = 300, random_state=42,\n",
    "                        subsample=0.6970532011679706,\n",
    "                        colsample_bytree=0.6055755840633003,\n",
    "                         class_weight='balanced',\n",
    "                         metric='none', is_unbalance=True, max_depth=8)\n",
    "    \n",
    "    lgb.fit(X_train, y_train, eval_set=(X_valid, y_valid), verbose=1000,\n",
    "            eval_metric=lgb_metric)\n",
    "    \n",
    "    y_pred = lgb.predict_proba(X_valid)\n",
    "    preds_test  = lgb.predict_proba(selected_test_df.drop(['Id'], axis=1).values)\n",
    "    \n",
    "    final_test_predictions.append(preds_test)\n",
    "    final_valid_predictions.update(dict(zip(valid_ids, y_pred)))\n",
    "\n",
    "    logloss = log_loss(y_valid, y_pred)\n",
    "    balanced_logloss = balanced_log_loss(y_valid, y_pred[:, 1])\n",
    "    log_losses.append(logloss)\n",
    "    balanced_log_losses.append(balanced_logloss)\n",
    "    weights.append(1/balanced_logloss)\n",
    "    \n",
    "    # feature importanceの算出\n",
    "    if importance is None:\n",
    "        importance = pd.DataFrame(lgb.feature_importances_, index=X_train.columns, columns=['fold{}_importance'.format(fold)])\n",
    "    else:\n",
    "        importance['fold{}_importance'.format(fold)] = lgb.feature_importances_\n",
    "\n",
    "    \n",
    "    print(f\"Fold: {fold}, log loss: {round(logloss, 3)}, balanced los loss: {round(balanced_logloss, 3)}\")\n",
    "\n",
    "print()\n",
    "print(\"Log Loss\")\n",
    "print(log_losses)\n",
    "print(np.mean(log_losses), np.std(log_losses))\n",
    "print()\n",
    "print(\"Balanced Log Loss\")\n",
    "print(balanced_log_losses)\n",
    "print(np.mean(balanced_log_losses), np.std(balanced_log_losses))\n",
    "print()\n",
    "print(\"Weights\")\n",
    "print(weights)"
   ]
  },
  {
   "cell_type": "markdown",
   "id": "81c994b7",
   "metadata": {
    "papermill": {
     "duration": 0.022051,
     "end_time": "2023-07-17T01:00:07.019905",
     "exception": false,
     "start_time": "2023-07-17T01:00:06.997854",
     "status": "completed"
    },
    "tags": []
   },
   "source": [
    "## submission"
   ]
  },
  {
   "cell_type": "code",
   "execution_count": 26,
   "id": "06cee725",
   "metadata": {
    "execution": {
     "iopub.execute_input": "2023-07-17T01:00:07.054466Z",
     "iopub.status.busy": "2023-07-17T01:00:07.053972Z",
     "iopub.status.idle": "2023-07-17T01:00:07.065713Z",
     "shell.execute_reply": "2023-07-17T01:00:07.063922Z"
    },
    "papermill": {
     "duration": 0.032087,
     "end_time": "2023-07-17T01:00:07.068345",
     "exception": false,
     "start_time": "2023-07-17T01:00:07.036258",
     "status": "completed"
    },
    "tags": []
   },
   "outputs": [
    {
     "data": {
      "text/plain": [
       "array([[0.91568513, 0.08431487],\n",
       "       [0.91568513, 0.08431487],\n",
       "       [0.91568513, 0.08431487],\n",
       "       [0.91568513, 0.08431487],\n",
       "       [0.91568513, 0.08431487]])"
      ]
     },
     "execution_count": 26,
     "metadata": {},
     "output_type": "execute_result"
    }
   ],
   "source": [
    "test_preds = np.zeros((test_df.shape[0],2))\n",
    "for i in range(5):\n",
    "    test_preds[:, 0] += weights[i] * final_test_predictions[i][:, 0]\n",
    "    test_preds[:, 1] += weights[i] * final_test_predictions[i][:, 1]\n",
    "test_preds /= sum(weights)\n",
    "test_preds"
   ]
  },
  {
   "cell_type": "code",
   "execution_count": 27,
   "id": "9cdfa337",
   "metadata": {
    "execution": {
     "iopub.execute_input": "2023-07-17T01:00:07.102371Z",
     "iopub.status.busy": "2023-07-17T01:00:07.101914Z",
     "iopub.status.idle": "2023-07-17T01:00:07.136176Z",
     "shell.execute_reply": "2023-07-17T01:00:07.134857Z"
    },
    "papermill": {
     "duration": 0.054872,
     "end_time": "2023-07-17T01:00:07.139115",
     "exception": false,
     "start_time": "2023-07-17T01:00:07.084243",
     "status": "completed"
    },
    "tags": []
   },
   "outputs": [
    {
     "data": {
      "text/html": [
       "<div>\n",
       "<style scoped>\n",
       "    .dataframe tbody tr th:only-of-type {\n",
       "        vertical-align: middle;\n",
       "    }\n",
       "\n",
       "    .dataframe tbody tr th {\n",
       "        vertical-align: top;\n",
       "    }\n",
       "\n",
       "    .dataframe thead th {\n",
       "        text-align: right;\n",
       "    }\n",
       "</style>\n",
       "<table border=\"1\" class=\"dataframe\">\n",
       "  <thead>\n",
       "    <tr style=\"text-align: right;\">\n",
       "      <th></th>\n",
       "      <th>Id</th>\n",
       "      <th>class_0</th>\n",
       "      <th>class_1</th>\n",
       "    </tr>\n",
       "  </thead>\n",
       "  <tbody>\n",
       "    <tr>\n",
       "      <th>0</th>\n",
       "      <td>00eed32682bb</td>\n",
       "      <td>0.915685</td>\n",
       "      <td>0.084315</td>\n",
       "    </tr>\n",
       "    <tr>\n",
       "      <th>1</th>\n",
       "      <td>010ebe33f668</td>\n",
       "      <td>0.915685</td>\n",
       "      <td>0.084315</td>\n",
       "    </tr>\n",
       "    <tr>\n",
       "      <th>2</th>\n",
       "      <td>02fa521e1838</td>\n",
       "      <td>0.915685</td>\n",
       "      <td>0.084315</td>\n",
       "    </tr>\n",
       "    <tr>\n",
       "      <th>3</th>\n",
       "      <td>040e15f562a2</td>\n",
       "      <td>0.915685</td>\n",
       "      <td>0.084315</td>\n",
       "    </tr>\n",
       "    <tr>\n",
       "      <th>4</th>\n",
       "      <td>046e85c7cc7f</td>\n",
       "      <td>0.915685</td>\n",
       "      <td>0.084315</td>\n",
       "    </tr>\n",
       "  </tbody>\n",
       "</table>\n",
       "</div>"
      ],
      "text/plain": [
       "             Id   class_0   class_1\n",
       "0  00eed32682bb  0.915685  0.084315\n",
       "1  010ebe33f668  0.915685  0.084315\n",
       "2  02fa521e1838  0.915685  0.084315\n",
       "3  040e15f562a2  0.915685  0.084315\n",
       "4  046e85c7cc7f  0.915685  0.084315"
      ]
     },
     "execution_count": 27,
     "metadata": {},
     "output_type": "execute_result"
    }
   ],
   "source": [
    "final_valid_predictions = pd.DataFrame.from_dict(final_valid_predictions, orient=\"index\").reset_index()\n",
    "final_valid_predictions.columns = ['Id', 'class_0', 'class_1']\n",
    "final_valid_predictions.to_csv(r\"oof.csv\", index=False)\n",
    "\n",
    "test_dict = {}\n",
    "test_dict.update(dict(zip(test.Id.values.tolist(), test_preds)))\n",
    "submission = pd.DataFrame.from_dict(test_dict, orient=\"index\").reset_index()\n",
    "submission.columns = ['Id', 'class_0', 'class_1']                       \n",
    "\n",
    "submission.to_csv(r\"submission.csv\", index=False)\n",
    "submission"
   ]
  }
 ],
 "metadata": {
  "kernelspec": {
   "display_name": "Python 3",
   "language": "python",
   "name": "python3"
  },
  "language_info": {
   "codemirror_mode": {
    "name": "ipython",
    "version": 3
   },
   "file_extension": ".py",
   "mimetype": "text/x-python",
   "name": "python",
   "nbconvert_exporter": "python",
   "pygments_lexer": "ipython3",
   "version": "3.10.10"
  },
  "papermill": {
   "default_parameters": {},
   "duration": 44.444257,
   "end_time": "2023-07-17T01:00:08.482852",
   "environment_variables": {},
   "exception": null,
   "input_path": "__notebook__.ipynb",
   "output_path": "__notebook__.ipynb",
   "parameters": {},
   "start_time": "2023-07-17T00:59:24.038595",
   "version": "2.4.0"
  }
 },
 "nbformat": 4,
 "nbformat_minor": 5
}
